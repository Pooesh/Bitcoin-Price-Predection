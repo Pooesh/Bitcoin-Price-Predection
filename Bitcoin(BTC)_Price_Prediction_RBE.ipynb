{
  "nbformat": 4,
  "nbformat_minor": 0,
  "metadata": {
    "colab": {
      "name": "Bitcoin(BTC) Price Prediction - RBE.ipynb",
      "provenance": [],
      "collapsed_sections": []
    },
    "kernelspec": {
      "name": "python3",
      "display_name": "Python 3"
    },
    "language_info": {
      "name": "python"
    }
  },
  "cells": [
    {
      "cell_type": "markdown",
      "source": [
        "# **BTC PRICE PREDICTION**"
      ],
      "metadata": {
        "id": "rspvKGGbAkPx"
      }
    },
    {
      "cell_type": "markdown",
      "source": [
        "## Multiple Linear Regression"
      ],
      "metadata": {
        "id": "8DekLjONToIH"
      }
    },
    {
      "cell_type": "markdown",
      "source": [
        "Import the Required Libraries."
      ],
      "metadata": {
        "id": "4201FYbT9TxN"
      }
    },
    {
      "cell_type": "code",
      "execution_count": null,
      "metadata": {
        "id": "8gY8PZYd7Xzs"
      },
      "outputs": [],
      "source": [
        "import pandas as pd\n",
        "import numpy as np\n",
        "import matplotlib.pyplot as plt\n",
        "import seaborn as sns\n",
        "import joblib as jl\n",
        "from sklearn import metrics\n",
        "from sklearn.model_selection import train_test_split\n",
        "from sklearn.linear_model import LinearRegression"
      ]
    },
    {
      "cell_type": "markdown",
      "source": [
        "*Note: First, Upload the Dataset in the Google Drive and Run the Program.*"
      ],
      "metadata": {
        "id": "boajfb2P9Yfe"
      }
    },
    {
      "cell_type": "markdown",
      "source": [
        "Reading the Dataset"
      ],
      "metadata": {
        "id": "L5fvjn_wbDHq"
      }
    },
    {
      "cell_type": "code",
      "source": [
        "dataset = pd.read_csv(\"/content/drive/MyDrive/Bitcoin Historical Dataset.csv\")"
      ],
      "metadata": {
        "id": "b6-DdMLJ85VN"
      },
      "execution_count": null,
      "outputs": []
    },
    {
      "cell_type": "markdown",
      "source": [
        "First Five Recors of the Dataset"
      ],
      "metadata": {
        "id": "jfiTYms9a9su"
      }
    },
    {
      "cell_type": "code",
      "source": [
        "dataset.head()"
      ],
      "metadata": {
        "colab": {
          "base_uri": "https://localhost:8080/",
          "height": 206
        },
        "id": "79Dg_tUYZjjW",
        "outputId": "085e8c96-84eb-4bcc-b090-bceb17a29ccf"
      },
      "execution_count": null,
      "outputs": [
        {
          "output_type": "execute_result",
          "data": {
            "text/plain": [
              "           Date    Price     Open     High      Low     Vol. Change %\n",
              "0  Apr 01, 2022  46297.0  45529.0  46728.0  44261.0  632.93M    1.70%\n",
              "1  Mar 31, 2022  45525.0  47071.0  47624.0  45228.0  520.00M   -3.29%\n",
              "2  Mar 30, 2022  47075.0  47449.0  47714.0  46601.0  467.76M   -0.79%\n",
              "3  Mar 29, 2022  47449.0  47126.0  48127.0  47029.0  478.82M    0.73%\n",
              "4  Mar 28, 2022  47105.0  46859.0  48199.0  46672.0  610.27M    0.52%"
            ],
            "text/html": [
              "\n",
              "  <div id=\"df-eeb7ea68-b889-44a8-8e12-568e6622124a\">\n",
              "    <div class=\"colab-df-container\">\n",
              "      <div>\n",
              "<style scoped>\n",
              "    .dataframe tbody tr th:only-of-type {\n",
              "        vertical-align: middle;\n",
              "    }\n",
              "\n",
              "    .dataframe tbody tr th {\n",
              "        vertical-align: top;\n",
              "    }\n",
              "\n",
              "    .dataframe thead th {\n",
              "        text-align: right;\n",
              "    }\n",
              "</style>\n",
              "<table border=\"1\" class=\"dataframe\">\n",
              "  <thead>\n",
              "    <tr style=\"text-align: right;\">\n",
              "      <th></th>\n",
              "      <th>Date</th>\n",
              "      <th>Price</th>\n",
              "      <th>Open</th>\n",
              "      <th>High</th>\n",
              "      <th>Low</th>\n",
              "      <th>Vol.</th>\n",
              "      <th>Change %</th>\n",
              "    </tr>\n",
              "  </thead>\n",
              "  <tbody>\n",
              "    <tr>\n",
              "      <th>0</th>\n",
              "      <td>Apr 01, 2022</td>\n",
              "      <td>46297.0</td>\n",
              "      <td>45529.0</td>\n",
              "      <td>46728.0</td>\n",
              "      <td>44261.0</td>\n",
              "      <td>632.93M</td>\n",
              "      <td>1.70%</td>\n",
              "    </tr>\n",
              "    <tr>\n",
              "      <th>1</th>\n",
              "      <td>Mar 31, 2022</td>\n",
              "      <td>45525.0</td>\n",
              "      <td>47071.0</td>\n",
              "      <td>47624.0</td>\n",
              "      <td>45228.0</td>\n",
              "      <td>520.00M</td>\n",
              "      <td>-3.29%</td>\n",
              "    </tr>\n",
              "    <tr>\n",
              "      <th>2</th>\n",
              "      <td>Mar 30, 2022</td>\n",
              "      <td>47075.0</td>\n",
              "      <td>47449.0</td>\n",
              "      <td>47714.0</td>\n",
              "      <td>46601.0</td>\n",
              "      <td>467.76M</td>\n",
              "      <td>-0.79%</td>\n",
              "    </tr>\n",
              "    <tr>\n",
              "      <th>3</th>\n",
              "      <td>Mar 29, 2022</td>\n",
              "      <td>47449.0</td>\n",
              "      <td>47126.0</td>\n",
              "      <td>48127.0</td>\n",
              "      <td>47029.0</td>\n",
              "      <td>478.82M</td>\n",
              "      <td>0.73%</td>\n",
              "    </tr>\n",
              "    <tr>\n",
              "      <th>4</th>\n",
              "      <td>Mar 28, 2022</td>\n",
              "      <td>47105.0</td>\n",
              "      <td>46859.0</td>\n",
              "      <td>48199.0</td>\n",
              "      <td>46672.0</td>\n",
              "      <td>610.27M</td>\n",
              "      <td>0.52%</td>\n",
              "    </tr>\n",
              "  </tbody>\n",
              "</table>\n",
              "</div>\n",
              "      <button class=\"colab-df-convert\" onclick=\"convertToInteractive('df-eeb7ea68-b889-44a8-8e12-568e6622124a')\"\n",
              "              title=\"Convert this dataframe to an interactive table.\"\n",
              "              style=\"display:none;\">\n",
              "        \n",
              "  <svg xmlns=\"http://www.w3.org/2000/svg\" height=\"24px\"viewBox=\"0 0 24 24\"\n",
              "       width=\"24px\">\n",
              "    <path d=\"M0 0h24v24H0V0z\" fill=\"none\"/>\n",
              "    <path d=\"M18.56 5.44l.94 2.06.94-2.06 2.06-.94-2.06-.94-.94-2.06-.94 2.06-2.06.94zm-11 1L8.5 8.5l.94-2.06 2.06-.94-2.06-.94L8.5 2.5l-.94 2.06-2.06.94zm10 10l.94 2.06.94-2.06 2.06-.94-2.06-.94-.94-2.06-.94 2.06-2.06.94z\"/><path d=\"M17.41 7.96l-1.37-1.37c-.4-.4-.92-.59-1.43-.59-.52 0-1.04.2-1.43.59L10.3 9.45l-7.72 7.72c-.78.78-.78 2.05 0 2.83L4 21.41c.39.39.9.59 1.41.59.51 0 1.02-.2 1.41-.59l7.78-7.78 2.81-2.81c.8-.78.8-2.07 0-2.86zM5.41 20L4 18.59l7.72-7.72 1.47 1.35L5.41 20z\"/>\n",
              "  </svg>\n",
              "      </button>\n",
              "      \n",
              "  <style>\n",
              "    .colab-df-container {\n",
              "      display:flex;\n",
              "      flex-wrap:wrap;\n",
              "      gap: 12px;\n",
              "    }\n",
              "\n",
              "    .colab-df-convert {\n",
              "      background-color: #E8F0FE;\n",
              "      border: none;\n",
              "      border-radius: 50%;\n",
              "      cursor: pointer;\n",
              "      display: none;\n",
              "      fill: #1967D2;\n",
              "      height: 32px;\n",
              "      padding: 0 0 0 0;\n",
              "      width: 32px;\n",
              "    }\n",
              "\n",
              "    .colab-df-convert:hover {\n",
              "      background-color: #E2EBFA;\n",
              "      box-shadow: 0px 1px 2px rgba(60, 64, 67, 0.3), 0px 1px 3px 1px rgba(60, 64, 67, 0.15);\n",
              "      fill: #174EA6;\n",
              "    }\n",
              "\n",
              "    [theme=dark] .colab-df-convert {\n",
              "      background-color: #3B4455;\n",
              "      fill: #D2E3FC;\n",
              "    }\n",
              "\n",
              "    [theme=dark] .colab-df-convert:hover {\n",
              "      background-color: #434B5C;\n",
              "      box-shadow: 0px 1px 3px 1px rgba(0, 0, 0, 0.15);\n",
              "      filter: drop-shadow(0px 1px 2px rgba(0, 0, 0, 0.3));\n",
              "      fill: #FFFFFF;\n",
              "    }\n",
              "  </style>\n",
              "\n",
              "      <script>\n",
              "        const buttonEl =\n",
              "          document.querySelector('#df-eeb7ea68-b889-44a8-8e12-568e6622124a button.colab-df-convert');\n",
              "        buttonEl.style.display =\n",
              "          google.colab.kernel.accessAllowed ? 'block' : 'none';\n",
              "\n",
              "        async function convertToInteractive(key) {\n",
              "          const element = document.querySelector('#df-eeb7ea68-b889-44a8-8e12-568e6622124a');\n",
              "          const dataTable =\n",
              "            await google.colab.kernel.invokeFunction('convertToInteractive',\n",
              "                                                     [key], {});\n",
              "          if (!dataTable) return;\n",
              "\n",
              "          const docLinkHtml = 'Like what you see? Visit the ' +\n",
              "            '<a target=\"_blank\" href=https://colab.research.google.com/notebooks/data_table.ipynb>data table notebook</a>'\n",
              "            + ' to learn more about interactive tables.';\n",
              "          element.innerHTML = '';\n",
              "          dataTable['output_type'] = 'display_data';\n",
              "          await google.colab.output.renderOutput(dataTable, element);\n",
              "          const docLink = document.createElement('div');\n",
              "          docLink.innerHTML = docLinkHtml;\n",
              "          element.appendChild(docLink);\n",
              "        }\n",
              "      </script>\n",
              "    </div>\n",
              "  </div>\n",
              "  "
            ]
          },
          "metadata": {},
          "execution_count": 3
        }
      ]
    },
    {
      "cell_type": "markdown",
      "source": [
        "Last Five Records of the Dataset"
      ],
      "metadata": {
        "id": "9FWI2EKoa3vo"
      }
    },
    {
      "cell_type": "code",
      "source": [
        "dataset.tail()"
      ],
      "metadata": {
        "colab": {
          "base_uri": "https://localhost:8080/",
          "height": 206
        },
        "id": "3cfldVuDZj-W",
        "outputId": "b3edba38-47e0-45fe-99ae-35c67b0a3746"
      },
      "execution_count": null,
      "outputs": [
        {
          "output_type": "execute_result",
          "data": {
            "text/plain": [
              "              Date  Price  Open  High  Low     Vol. Change %\n",
              "3739  Jan 05, 2012    6.9   5.6   7.2  5.6  182.33K   24.78%\n",
              "3740  Jan 04, 2012    5.6   4.9   5.7  4.8  131.17K   14.14%\n",
              "3741  Jan 03, 2012    4.9   5.2   5.3  4.7  125.17K   -6.51%\n",
              "3742  Jan 02, 2012    5.2   5.3   5.5  4.8   69.15K   -0.95%\n",
              "3743  Jan 01, 2012    5.3   4.7   5.5  4.6  108.51K   11.65%"
            ],
            "text/html": [
              "\n",
              "  <div id=\"df-98aa2bd4-6e50-4a06-848a-0b96e0b85623\">\n",
              "    <div class=\"colab-df-container\">\n",
              "      <div>\n",
              "<style scoped>\n",
              "    .dataframe tbody tr th:only-of-type {\n",
              "        vertical-align: middle;\n",
              "    }\n",
              "\n",
              "    .dataframe tbody tr th {\n",
              "        vertical-align: top;\n",
              "    }\n",
              "\n",
              "    .dataframe thead th {\n",
              "        text-align: right;\n",
              "    }\n",
              "</style>\n",
              "<table border=\"1\" class=\"dataframe\">\n",
              "  <thead>\n",
              "    <tr style=\"text-align: right;\">\n",
              "      <th></th>\n",
              "      <th>Date</th>\n",
              "      <th>Price</th>\n",
              "      <th>Open</th>\n",
              "      <th>High</th>\n",
              "      <th>Low</th>\n",
              "      <th>Vol.</th>\n",
              "      <th>Change %</th>\n",
              "    </tr>\n",
              "  </thead>\n",
              "  <tbody>\n",
              "    <tr>\n",
              "      <th>3739</th>\n",
              "      <td>Jan 05, 2012</td>\n",
              "      <td>6.9</td>\n",
              "      <td>5.6</td>\n",
              "      <td>7.2</td>\n",
              "      <td>5.6</td>\n",
              "      <td>182.33K</td>\n",
              "      <td>24.78%</td>\n",
              "    </tr>\n",
              "    <tr>\n",
              "      <th>3740</th>\n",
              "      <td>Jan 04, 2012</td>\n",
              "      <td>5.6</td>\n",
              "      <td>4.9</td>\n",
              "      <td>5.7</td>\n",
              "      <td>4.8</td>\n",
              "      <td>131.17K</td>\n",
              "      <td>14.14%</td>\n",
              "    </tr>\n",
              "    <tr>\n",
              "      <th>3741</th>\n",
              "      <td>Jan 03, 2012</td>\n",
              "      <td>4.9</td>\n",
              "      <td>5.2</td>\n",
              "      <td>5.3</td>\n",
              "      <td>4.7</td>\n",
              "      <td>125.17K</td>\n",
              "      <td>-6.51%</td>\n",
              "    </tr>\n",
              "    <tr>\n",
              "      <th>3742</th>\n",
              "      <td>Jan 02, 2012</td>\n",
              "      <td>5.2</td>\n",
              "      <td>5.3</td>\n",
              "      <td>5.5</td>\n",
              "      <td>4.8</td>\n",
              "      <td>69.15K</td>\n",
              "      <td>-0.95%</td>\n",
              "    </tr>\n",
              "    <tr>\n",
              "      <th>3743</th>\n",
              "      <td>Jan 01, 2012</td>\n",
              "      <td>5.3</td>\n",
              "      <td>4.7</td>\n",
              "      <td>5.5</td>\n",
              "      <td>4.6</td>\n",
              "      <td>108.51K</td>\n",
              "      <td>11.65%</td>\n",
              "    </tr>\n",
              "  </tbody>\n",
              "</table>\n",
              "</div>\n",
              "      <button class=\"colab-df-convert\" onclick=\"convertToInteractive('df-98aa2bd4-6e50-4a06-848a-0b96e0b85623')\"\n",
              "              title=\"Convert this dataframe to an interactive table.\"\n",
              "              style=\"display:none;\">\n",
              "        \n",
              "  <svg xmlns=\"http://www.w3.org/2000/svg\" height=\"24px\"viewBox=\"0 0 24 24\"\n",
              "       width=\"24px\">\n",
              "    <path d=\"M0 0h24v24H0V0z\" fill=\"none\"/>\n",
              "    <path d=\"M18.56 5.44l.94 2.06.94-2.06 2.06-.94-2.06-.94-.94-2.06-.94 2.06-2.06.94zm-11 1L8.5 8.5l.94-2.06 2.06-.94-2.06-.94L8.5 2.5l-.94 2.06-2.06.94zm10 10l.94 2.06.94-2.06 2.06-.94-2.06-.94-.94-2.06-.94 2.06-2.06.94z\"/><path d=\"M17.41 7.96l-1.37-1.37c-.4-.4-.92-.59-1.43-.59-.52 0-1.04.2-1.43.59L10.3 9.45l-7.72 7.72c-.78.78-.78 2.05 0 2.83L4 21.41c.39.39.9.59 1.41.59.51 0 1.02-.2 1.41-.59l7.78-7.78 2.81-2.81c.8-.78.8-2.07 0-2.86zM5.41 20L4 18.59l7.72-7.72 1.47 1.35L5.41 20z\"/>\n",
              "  </svg>\n",
              "      </button>\n",
              "      \n",
              "  <style>\n",
              "    .colab-df-container {\n",
              "      display:flex;\n",
              "      flex-wrap:wrap;\n",
              "      gap: 12px;\n",
              "    }\n",
              "\n",
              "    .colab-df-convert {\n",
              "      background-color: #E8F0FE;\n",
              "      border: none;\n",
              "      border-radius: 50%;\n",
              "      cursor: pointer;\n",
              "      display: none;\n",
              "      fill: #1967D2;\n",
              "      height: 32px;\n",
              "      padding: 0 0 0 0;\n",
              "      width: 32px;\n",
              "    }\n",
              "\n",
              "    .colab-df-convert:hover {\n",
              "      background-color: #E2EBFA;\n",
              "      box-shadow: 0px 1px 2px rgba(60, 64, 67, 0.3), 0px 1px 3px 1px rgba(60, 64, 67, 0.15);\n",
              "      fill: #174EA6;\n",
              "    }\n",
              "\n",
              "    [theme=dark] .colab-df-convert {\n",
              "      background-color: #3B4455;\n",
              "      fill: #D2E3FC;\n",
              "    }\n",
              "\n",
              "    [theme=dark] .colab-df-convert:hover {\n",
              "      background-color: #434B5C;\n",
              "      box-shadow: 0px 1px 3px 1px rgba(0, 0, 0, 0.15);\n",
              "      filter: drop-shadow(0px 1px 2px rgba(0, 0, 0, 0.3));\n",
              "      fill: #FFFFFF;\n",
              "    }\n",
              "  </style>\n",
              "\n",
              "      <script>\n",
              "        const buttonEl =\n",
              "          document.querySelector('#df-98aa2bd4-6e50-4a06-848a-0b96e0b85623 button.colab-df-convert');\n",
              "        buttonEl.style.display =\n",
              "          google.colab.kernel.accessAllowed ? 'block' : 'none';\n",
              "\n",
              "        async function convertToInteractive(key) {\n",
              "          const element = document.querySelector('#df-98aa2bd4-6e50-4a06-848a-0b96e0b85623');\n",
              "          const dataTable =\n",
              "            await google.colab.kernel.invokeFunction('convertToInteractive',\n",
              "                                                     [key], {});\n",
              "          if (!dataTable) return;\n",
              "\n",
              "          const docLinkHtml = 'Like what you see? Visit the ' +\n",
              "            '<a target=\"_blank\" href=https://colab.research.google.com/notebooks/data_table.ipynb>data table notebook</a>'\n",
              "            + ' to learn more about interactive tables.';\n",
              "          element.innerHTML = '';\n",
              "          dataTable['output_type'] = 'display_data';\n",
              "          await google.colab.output.renderOutput(dataTable, element);\n",
              "          const docLink = document.createElement('div');\n",
              "          docLink.innerHTML = docLinkHtml;\n",
              "          element.appendChild(docLink);\n",
              "        }\n",
              "      </script>\n",
              "    </div>\n",
              "  </div>\n",
              "  "
            ]
          },
          "metadata": {},
          "execution_count": 4
        }
      ]
    },
    {
      "cell_type": "markdown",
      "source": [
        "Dataset Shape"
      ],
      "metadata": {
        "id": "HZUDiOOGaywb"
      }
    },
    {
      "cell_type": "code",
      "source": [
        "dataset.shape"
      ],
      "metadata": {
        "colab": {
          "base_uri": "https://localhost:8080/"
        },
        "id": "zIuS00VaaH-_",
        "outputId": "d3a48341-ffcb-4b06-bf2f-a357475d332e"
      },
      "execution_count": null,
      "outputs": [
        {
          "output_type": "execute_result",
          "data": {
            "text/plain": [
              "(3744, 7)"
            ]
          },
          "metadata": {},
          "execution_count": 5
        }
      ]
    },
    {
      "cell_type": "markdown",
      "source": [
        "Dataset Describing"
      ],
      "metadata": {
        "id": "5VPdYAV3atul"
      }
    },
    {
      "cell_type": "code",
      "source": [
        "dataset.describe()"
      ],
      "metadata": {
        "colab": {
          "base_uri": "https://localhost:8080/",
          "height": 300
        },
        "id": "4cb0La1la87J",
        "outputId": "c0db5250-5c9d-4f1f-bf72-8b5447359f01"
      },
      "execution_count": null,
      "outputs": [
        {
          "output_type": "execute_result",
          "data": {
            "text/plain": [
              "              Price          Open          High           Low\n",
              "count   3744.000000   3744.000000   3744.000000   3744.000000\n",
              "mean    8709.264931   8696.973291   8943.827778   8423.173932\n",
              "std    14951.761124  14939.928071  15353.643871  14472.255066\n",
              "min        4.200000      4.200000      4.400000      3.900000\n",
              "25%      276.250000    275.425000    284.500000    268.475000\n",
              "50%     1044.550000   1043.150000   1068.800000   1004.500000\n",
              "75%     9082.025000   9080.475000   9266.825000   8806.725000\n",
              "max    67527.900000  67528.700000  68990.600000  66334.900000"
            ],
            "text/html": [
              "\n",
              "  <div id=\"df-71b4519c-13a0-4383-85ee-4af19f09c184\">\n",
              "    <div class=\"colab-df-container\">\n",
              "      <div>\n",
              "<style scoped>\n",
              "    .dataframe tbody tr th:only-of-type {\n",
              "        vertical-align: middle;\n",
              "    }\n",
              "\n",
              "    .dataframe tbody tr th {\n",
              "        vertical-align: top;\n",
              "    }\n",
              "\n",
              "    .dataframe thead th {\n",
              "        text-align: right;\n",
              "    }\n",
              "</style>\n",
              "<table border=\"1\" class=\"dataframe\">\n",
              "  <thead>\n",
              "    <tr style=\"text-align: right;\">\n",
              "      <th></th>\n",
              "      <th>Price</th>\n",
              "      <th>Open</th>\n",
              "      <th>High</th>\n",
              "      <th>Low</th>\n",
              "    </tr>\n",
              "  </thead>\n",
              "  <tbody>\n",
              "    <tr>\n",
              "      <th>count</th>\n",
              "      <td>3744.000000</td>\n",
              "      <td>3744.000000</td>\n",
              "      <td>3744.000000</td>\n",
              "      <td>3744.000000</td>\n",
              "    </tr>\n",
              "    <tr>\n",
              "      <th>mean</th>\n",
              "      <td>8709.264931</td>\n",
              "      <td>8696.973291</td>\n",
              "      <td>8943.827778</td>\n",
              "      <td>8423.173932</td>\n",
              "    </tr>\n",
              "    <tr>\n",
              "      <th>std</th>\n",
              "      <td>14951.761124</td>\n",
              "      <td>14939.928071</td>\n",
              "      <td>15353.643871</td>\n",
              "      <td>14472.255066</td>\n",
              "    </tr>\n",
              "    <tr>\n",
              "      <th>min</th>\n",
              "      <td>4.200000</td>\n",
              "      <td>4.200000</td>\n",
              "      <td>4.400000</td>\n",
              "      <td>3.900000</td>\n",
              "    </tr>\n",
              "    <tr>\n",
              "      <th>25%</th>\n",
              "      <td>276.250000</td>\n",
              "      <td>275.425000</td>\n",
              "      <td>284.500000</td>\n",
              "      <td>268.475000</td>\n",
              "    </tr>\n",
              "    <tr>\n",
              "      <th>50%</th>\n",
              "      <td>1044.550000</td>\n",
              "      <td>1043.150000</td>\n",
              "      <td>1068.800000</td>\n",
              "      <td>1004.500000</td>\n",
              "    </tr>\n",
              "    <tr>\n",
              "      <th>75%</th>\n",
              "      <td>9082.025000</td>\n",
              "      <td>9080.475000</td>\n",
              "      <td>9266.825000</td>\n",
              "      <td>8806.725000</td>\n",
              "    </tr>\n",
              "    <tr>\n",
              "      <th>max</th>\n",
              "      <td>67527.900000</td>\n",
              "      <td>67528.700000</td>\n",
              "      <td>68990.600000</td>\n",
              "      <td>66334.900000</td>\n",
              "    </tr>\n",
              "  </tbody>\n",
              "</table>\n",
              "</div>\n",
              "      <button class=\"colab-df-convert\" onclick=\"convertToInteractive('df-71b4519c-13a0-4383-85ee-4af19f09c184')\"\n",
              "              title=\"Convert this dataframe to an interactive table.\"\n",
              "              style=\"display:none;\">\n",
              "        \n",
              "  <svg xmlns=\"http://www.w3.org/2000/svg\" height=\"24px\"viewBox=\"0 0 24 24\"\n",
              "       width=\"24px\">\n",
              "    <path d=\"M0 0h24v24H0V0z\" fill=\"none\"/>\n",
              "    <path d=\"M18.56 5.44l.94 2.06.94-2.06 2.06-.94-2.06-.94-.94-2.06-.94 2.06-2.06.94zm-11 1L8.5 8.5l.94-2.06 2.06-.94-2.06-.94L8.5 2.5l-.94 2.06-2.06.94zm10 10l.94 2.06.94-2.06 2.06-.94-2.06-.94-.94-2.06-.94 2.06-2.06.94z\"/><path d=\"M17.41 7.96l-1.37-1.37c-.4-.4-.92-.59-1.43-.59-.52 0-1.04.2-1.43.59L10.3 9.45l-7.72 7.72c-.78.78-.78 2.05 0 2.83L4 21.41c.39.39.9.59 1.41.59.51 0 1.02-.2 1.41-.59l7.78-7.78 2.81-2.81c.8-.78.8-2.07 0-2.86zM5.41 20L4 18.59l7.72-7.72 1.47 1.35L5.41 20z\"/>\n",
              "  </svg>\n",
              "      </button>\n",
              "      \n",
              "  <style>\n",
              "    .colab-df-container {\n",
              "      display:flex;\n",
              "      flex-wrap:wrap;\n",
              "      gap: 12px;\n",
              "    }\n",
              "\n",
              "    .colab-df-convert {\n",
              "      background-color: #E8F0FE;\n",
              "      border: none;\n",
              "      border-radius: 50%;\n",
              "      cursor: pointer;\n",
              "      display: none;\n",
              "      fill: #1967D2;\n",
              "      height: 32px;\n",
              "      padding: 0 0 0 0;\n",
              "      width: 32px;\n",
              "    }\n",
              "\n",
              "    .colab-df-convert:hover {\n",
              "      background-color: #E2EBFA;\n",
              "      box-shadow: 0px 1px 2px rgba(60, 64, 67, 0.3), 0px 1px 3px 1px rgba(60, 64, 67, 0.15);\n",
              "      fill: #174EA6;\n",
              "    }\n",
              "\n",
              "    [theme=dark] .colab-df-convert {\n",
              "      background-color: #3B4455;\n",
              "      fill: #D2E3FC;\n",
              "    }\n",
              "\n",
              "    [theme=dark] .colab-df-convert:hover {\n",
              "      background-color: #434B5C;\n",
              "      box-shadow: 0px 1px 3px 1px rgba(0, 0, 0, 0.15);\n",
              "      filter: drop-shadow(0px 1px 2px rgba(0, 0, 0, 0.3));\n",
              "      fill: #FFFFFF;\n",
              "    }\n",
              "  </style>\n",
              "\n",
              "      <script>\n",
              "        const buttonEl =\n",
              "          document.querySelector('#df-71b4519c-13a0-4383-85ee-4af19f09c184 button.colab-df-convert');\n",
              "        buttonEl.style.display =\n",
              "          google.colab.kernel.accessAllowed ? 'block' : 'none';\n",
              "\n",
              "        async function convertToInteractive(key) {\n",
              "          const element = document.querySelector('#df-71b4519c-13a0-4383-85ee-4af19f09c184');\n",
              "          const dataTable =\n",
              "            await google.colab.kernel.invokeFunction('convertToInteractive',\n",
              "                                                     [key], {});\n",
              "          if (!dataTable) return;\n",
              "\n",
              "          const docLinkHtml = 'Like what you see? Visit the ' +\n",
              "            '<a target=\"_blank\" href=https://colab.research.google.com/notebooks/data_table.ipynb>data table notebook</a>'\n",
              "            + ' to learn more about interactive tables.';\n",
              "          element.innerHTML = '';\n",
              "          dataTable['output_type'] = 'display_data';\n",
              "          await google.colab.output.renderOutput(dataTable, element);\n",
              "          const docLink = document.createElement('div');\n",
              "          docLink.innerHTML = docLinkHtml;\n",
              "          element.appendChild(docLink);\n",
              "        }\n",
              "      </script>\n",
              "    </div>\n",
              "  </div>\n",
              "  "
            ]
          },
          "metadata": {},
          "execution_count": 6
        }
      ]
    },
    {
      "cell_type": "markdown",
      "source": [
        "Dropping Unnecessary Columns"
      ],
      "metadata": {
        "id": "RWFcfg6f-xe3"
      }
    },
    {
      "cell_type": "code",
      "source": [
        "dataset = dataset.drop(['Date','Change %'],axis=1)"
      ],
      "metadata": {
        "id": "I_m580pQ9RTb"
      },
      "execution_count": null,
      "outputs": []
    },
    {
      "cell_type": "markdown",
      "source": [
        "First Five Records of the Dataset"
      ],
      "metadata": {
        "id": "fpfXTGL2anPk"
      }
    },
    {
      "cell_type": "code",
      "source": [
        "dataset.head()"
      ],
      "metadata": {
        "colab": {
          "base_uri": "https://localhost:8080/",
          "height": 206
        },
        "id": "oilSPDlHa7F6",
        "outputId": "16e27448-74db-4605-a0b5-4b996f6ee697"
      },
      "execution_count": null,
      "outputs": [
        {
          "output_type": "execute_result",
          "data": {
            "text/plain": [
              "     Price     Open     High      Low     Vol.\n",
              "0  46297.0  45529.0  46728.0  44261.0  632.93M\n",
              "1  45525.0  47071.0  47624.0  45228.0  520.00M\n",
              "2  47075.0  47449.0  47714.0  46601.0  467.76M\n",
              "3  47449.0  47126.0  48127.0  47029.0  478.82M\n",
              "4  47105.0  46859.0  48199.0  46672.0  610.27M"
            ],
            "text/html": [
              "\n",
              "  <div id=\"df-2faa3936-6609-40cc-a5d1-db20ee34e7ef\">\n",
              "    <div class=\"colab-df-container\">\n",
              "      <div>\n",
              "<style scoped>\n",
              "    .dataframe tbody tr th:only-of-type {\n",
              "        vertical-align: middle;\n",
              "    }\n",
              "\n",
              "    .dataframe tbody tr th {\n",
              "        vertical-align: top;\n",
              "    }\n",
              "\n",
              "    .dataframe thead th {\n",
              "        text-align: right;\n",
              "    }\n",
              "</style>\n",
              "<table border=\"1\" class=\"dataframe\">\n",
              "  <thead>\n",
              "    <tr style=\"text-align: right;\">\n",
              "      <th></th>\n",
              "      <th>Price</th>\n",
              "      <th>Open</th>\n",
              "      <th>High</th>\n",
              "      <th>Low</th>\n",
              "      <th>Vol.</th>\n",
              "    </tr>\n",
              "  </thead>\n",
              "  <tbody>\n",
              "    <tr>\n",
              "      <th>0</th>\n",
              "      <td>46297.0</td>\n",
              "      <td>45529.0</td>\n",
              "      <td>46728.0</td>\n",
              "      <td>44261.0</td>\n",
              "      <td>632.93M</td>\n",
              "    </tr>\n",
              "    <tr>\n",
              "      <th>1</th>\n",
              "      <td>45525.0</td>\n",
              "      <td>47071.0</td>\n",
              "      <td>47624.0</td>\n",
              "      <td>45228.0</td>\n",
              "      <td>520.00M</td>\n",
              "    </tr>\n",
              "    <tr>\n",
              "      <th>2</th>\n",
              "      <td>47075.0</td>\n",
              "      <td>47449.0</td>\n",
              "      <td>47714.0</td>\n",
              "      <td>46601.0</td>\n",
              "      <td>467.76M</td>\n",
              "    </tr>\n",
              "    <tr>\n",
              "      <th>3</th>\n",
              "      <td>47449.0</td>\n",
              "      <td>47126.0</td>\n",
              "      <td>48127.0</td>\n",
              "      <td>47029.0</td>\n",
              "      <td>478.82M</td>\n",
              "    </tr>\n",
              "    <tr>\n",
              "      <th>4</th>\n",
              "      <td>47105.0</td>\n",
              "      <td>46859.0</td>\n",
              "      <td>48199.0</td>\n",
              "      <td>46672.0</td>\n",
              "      <td>610.27M</td>\n",
              "    </tr>\n",
              "  </tbody>\n",
              "</table>\n",
              "</div>\n",
              "      <button class=\"colab-df-convert\" onclick=\"convertToInteractive('df-2faa3936-6609-40cc-a5d1-db20ee34e7ef')\"\n",
              "              title=\"Convert this dataframe to an interactive table.\"\n",
              "              style=\"display:none;\">\n",
              "        \n",
              "  <svg xmlns=\"http://www.w3.org/2000/svg\" height=\"24px\"viewBox=\"0 0 24 24\"\n",
              "       width=\"24px\">\n",
              "    <path d=\"M0 0h24v24H0V0z\" fill=\"none\"/>\n",
              "    <path d=\"M18.56 5.44l.94 2.06.94-2.06 2.06-.94-2.06-.94-.94-2.06-.94 2.06-2.06.94zm-11 1L8.5 8.5l.94-2.06 2.06-.94-2.06-.94L8.5 2.5l-.94 2.06-2.06.94zm10 10l.94 2.06.94-2.06 2.06-.94-2.06-.94-.94-2.06-.94 2.06-2.06.94z\"/><path d=\"M17.41 7.96l-1.37-1.37c-.4-.4-.92-.59-1.43-.59-.52 0-1.04.2-1.43.59L10.3 9.45l-7.72 7.72c-.78.78-.78 2.05 0 2.83L4 21.41c.39.39.9.59 1.41.59.51 0 1.02-.2 1.41-.59l7.78-7.78 2.81-2.81c.8-.78.8-2.07 0-2.86zM5.41 20L4 18.59l7.72-7.72 1.47 1.35L5.41 20z\"/>\n",
              "  </svg>\n",
              "      </button>\n",
              "      \n",
              "  <style>\n",
              "    .colab-df-container {\n",
              "      display:flex;\n",
              "      flex-wrap:wrap;\n",
              "      gap: 12px;\n",
              "    }\n",
              "\n",
              "    .colab-df-convert {\n",
              "      background-color: #E8F0FE;\n",
              "      border: none;\n",
              "      border-radius: 50%;\n",
              "      cursor: pointer;\n",
              "      display: none;\n",
              "      fill: #1967D2;\n",
              "      height: 32px;\n",
              "      padding: 0 0 0 0;\n",
              "      width: 32px;\n",
              "    }\n",
              "\n",
              "    .colab-df-convert:hover {\n",
              "      background-color: #E2EBFA;\n",
              "      box-shadow: 0px 1px 2px rgba(60, 64, 67, 0.3), 0px 1px 3px 1px rgba(60, 64, 67, 0.15);\n",
              "      fill: #174EA6;\n",
              "    }\n",
              "\n",
              "    [theme=dark] .colab-df-convert {\n",
              "      background-color: #3B4455;\n",
              "      fill: #D2E3FC;\n",
              "    }\n",
              "\n",
              "    [theme=dark] .colab-df-convert:hover {\n",
              "      background-color: #434B5C;\n",
              "      box-shadow: 0px 1px 3px 1px rgba(0, 0, 0, 0.15);\n",
              "      filter: drop-shadow(0px 1px 2px rgba(0, 0, 0, 0.3));\n",
              "      fill: #FFFFFF;\n",
              "    }\n",
              "  </style>\n",
              "\n",
              "      <script>\n",
              "        const buttonEl =\n",
              "          document.querySelector('#df-2faa3936-6609-40cc-a5d1-db20ee34e7ef button.colab-df-convert');\n",
              "        buttonEl.style.display =\n",
              "          google.colab.kernel.accessAllowed ? 'block' : 'none';\n",
              "\n",
              "        async function convertToInteractive(key) {\n",
              "          const element = document.querySelector('#df-2faa3936-6609-40cc-a5d1-db20ee34e7ef');\n",
              "          const dataTable =\n",
              "            await google.colab.kernel.invokeFunction('convertToInteractive',\n",
              "                                                     [key], {});\n",
              "          if (!dataTable) return;\n",
              "\n",
              "          const docLinkHtml = 'Like what you see? Visit the ' +\n",
              "            '<a target=\"_blank\" href=https://colab.research.google.com/notebooks/data_table.ipynb>data table notebook</a>'\n",
              "            + ' to learn more about interactive tables.';\n",
              "          element.innerHTML = '';\n",
              "          dataTable['output_type'] = 'display_data';\n",
              "          await google.colab.output.renderOutput(dataTable, element);\n",
              "          const docLink = document.createElement('div');\n",
              "          docLink.innerHTML = docLinkHtml;\n",
              "          element.appendChild(docLink);\n",
              "        }\n",
              "      </script>\n",
              "    </div>\n",
              "  </div>\n",
              "  "
            ]
          },
          "metadata": {},
          "execution_count": 8
        }
      ]
    },
    {
      "cell_type": "markdown",
      "source": [
        "Last Five Records of the Dataset"
      ],
      "metadata": {
        "id": "3nHah0KIbR8B"
      }
    },
    {
      "cell_type": "code",
      "source": [
        "dataset.tail()"
      ],
      "metadata": {
        "colab": {
          "base_uri": "https://localhost:8080/",
          "height": 206
        },
        "id": "efjlwq-ubRUP",
        "outputId": "250209cb-ff6e-425d-d732-ca130834d139"
      },
      "execution_count": null,
      "outputs": [
        {
          "output_type": "execute_result",
          "data": {
            "text/plain": [
              "      Price  Open  High  Low     Vol.\n",
              "3739    6.9   5.6   7.2  5.6  182.33K\n",
              "3740    5.6   4.9   5.7  4.8  131.17K\n",
              "3741    4.9   5.2   5.3  4.7  125.17K\n",
              "3742    5.2   5.3   5.5  4.8   69.15K\n",
              "3743    5.3   4.7   5.5  4.6  108.51K"
            ],
            "text/html": [
              "\n",
              "  <div id=\"df-fb590386-9b6e-4ab4-b887-b68d5430ccb8\">\n",
              "    <div class=\"colab-df-container\">\n",
              "      <div>\n",
              "<style scoped>\n",
              "    .dataframe tbody tr th:only-of-type {\n",
              "        vertical-align: middle;\n",
              "    }\n",
              "\n",
              "    .dataframe tbody tr th {\n",
              "        vertical-align: top;\n",
              "    }\n",
              "\n",
              "    .dataframe thead th {\n",
              "        text-align: right;\n",
              "    }\n",
              "</style>\n",
              "<table border=\"1\" class=\"dataframe\">\n",
              "  <thead>\n",
              "    <tr style=\"text-align: right;\">\n",
              "      <th></th>\n",
              "      <th>Price</th>\n",
              "      <th>Open</th>\n",
              "      <th>High</th>\n",
              "      <th>Low</th>\n",
              "      <th>Vol.</th>\n",
              "    </tr>\n",
              "  </thead>\n",
              "  <tbody>\n",
              "    <tr>\n",
              "      <th>3739</th>\n",
              "      <td>6.9</td>\n",
              "      <td>5.6</td>\n",
              "      <td>7.2</td>\n",
              "      <td>5.6</td>\n",
              "      <td>182.33K</td>\n",
              "    </tr>\n",
              "    <tr>\n",
              "      <th>3740</th>\n",
              "      <td>5.6</td>\n",
              "      <td>4.9</td>\n",
              "      <td>5.7</td>\n",
              "      <td>4.8</td>\n",
              "      <td>131.17K</td>\n",
              "    </tr>\n",
              "    <tr>\n",
              "      <th>3741</th>\n",
              "      <td>4.9</td>\n",
              "      <td>5.2</td>\n",
              "      <td>5.3</td>\n",
              "      <td>4.7</td>\n",
              "      <td>125.17K</td>\n",
              "    </tr>\n",
              "    <tr>\n",
              "      <th>3742</th>\n",
              "      <td>5.2</td>\n",
              "      <td>5.3</td>\n",
              "      <td>5.5</td>\n",
              "      <td>4.8</td>\n",
              "      <td>69.15K</td>\n",
              "    </tr>\n",
              "    <tr>\n",
              "      <th>3743</th>\n",
              "      <td>5.3</td>\n",
              "      <td>4.7</td>\n",
              "      <td>5.5</td>\n",
              "      <td>4.6</td>\n",
              "      <td>108.51K</td>\n",
              "    </tr>\n",
              "  </tbody>\n",
              "</table>\n",
              "</div>\n",
              "      <button class=\"colab-df-convert\" onclick=\"convertToInteractive('df-fb590386-9b6e-4ab4-b887-b68d5430ccb8')\"\n",
              "              title=\"Convert this dataframe to an interactive table.\"\n",
              "              style=\"display:none;\">\n",
              "        \n",
              "  <svg xmlns=\"http://www.w3.org/2000/svg\" height=\"24px\"viewBox=\"0 0 24 24\"\n",
              "       width=\"24px\">\n",
              "    <path d=\"M0 0h24v24H0V0z\" fill=\"none\"/>\n",
              "    <path d=\"M18.56 5.44l.94 2.06.94-2.06 2.06-.94-2.06-.94-.94-2.06-.94 2.06-2.06.94zm-11 1L8.5 8.5l.94-2.06 2.06-.94-2.06-.94L8.5 2.5l-.94 2.06-2.06.94zm10 10l.94 2.06.94-2.06 2.06-.94-2.06-.94-.94-2.06-.94 2.06-2.06.94z\"/><path d=\"M17.41 7.96l-1.37-1.37c-.4-.4-.92-.59-1.43-.59-.52 0-1.04.2-1.43.59L10.3 9.45l-7.72 7.72c-.78.78-.78 2.05 0 2.83L4 21.41c.39.39.9.59 1.41.59.51 0 1.02-.2 1.41-.59l7.78-7.78 2.81-2.81c.8-.78.8-2.07 0-2.86zM5.41 20L4 18.59l7.72-7.72 1.47 1.35L5.41 20z\"/>\n",
              "  </svg>\n",
              "      </button>\n",
              "      \n",
              "  <style>\n",
              "    .colab-df-container {\n",
              "      display:flex;\n",
              "      flex-wrap:wrap;\n",
              "      gap: 12px;\n",
              "    }\n",
              "\n",
              "    .colab-df-convert {\n",
              "      background-color: #E8F0FE;\n",
              "      border: none;\n",
              "      border-radius: 50%;\n",
              "      cursor: pointer;\n",
              "      display: none;\n",
              "      fill: #1967D2;\n",
              "      height: 32px;\n",
              "      padding: 0 0 0 0;\n",
              "      width: 32px;\n",
              "    }\n",
              "\n",
              "    .colab-df-convert:hover {\n",
              "      background-color: #E2EBFA;\n",
              "      box-shadow: 0px 1px 2px rgba(60, 64, 67, 0.3), 0px 1px 3px 1px rgba(60, 64, 67, 0.15);\n",
              "      fill: #174EA6;\n",
              "    }\n",
              "\n",
              "    [theme=dark] .colab-df-convert {\n",
              "      background-color: #3B4455;\n",
              "      fill: #D2E3FC;\n",
              "    }\n",
              "\n",
              "    [theme=dark] .colab-df-convert:hover {\n",
              "      background-color: #434B5C;\n",
              "      box-shadow: 0px 1px 3px 1px rgba(0, 0, 0, 0.15);\n",
              "      filter: drop-shadow(0px 1px 2px rgba(0, 0, 0, 0.3));\n",
              "      fill: #FFFFFF;\n",
              "    }\n",
              "  </style>\n",
              "\n",
              "      <script>\n",
              "        const buttonEl =\n",
              "          document.querySelector('#df-fb590386-9b6e-4ab4-b887-b68d5430ccb8 button.colab-df-convert');\n",
              "        buttonEl.style.display =\n",
              "          google.colab.kernel.accessAllowed ? 'block' : 'none';\n",
              "\n",
              "        async function convertToInteractive(key) {\n",
              "          const element = document.querySelector('#df-fb590386-9b6e-4ab4-b887-b68d5430ccb8');\n",
              "          const dataTable =\n",
              "            await google.colab.kernel.invokeFunction('convertToInteractive',\n",
              "                                                     [key], {});\n",
              "          if (!dataTable) return;\n",
              "\n",
              "          const docLinkHtml = 'Like what you see? Visit the ' +\n",
              "            '<a target=\"_blank\" href=https://colab.research.google.com/notebooks/data_table.ipynb>data table notebook</a>'\n",
              "            + ' to learn more about interactive tables.';\n",
              "          element.innerHTML = '';\n",
              "          dataTable['output_type'] = 'display_data';\n",
              "          await google.colab.output.renderOutput(dataTable, element);\n",
              "          const docLink = document.createElement('div');\n",
              "          docLink.innerHTML = docLinkHtml;\n",
              "          element.appendChild(docLink);\n",
              "        }\n",
              "      </script>\n",
              "    </div>\n",
              "  </div>\n",
              "  "
            ]
          },
          "metadata": {},
          "execution_count": 9
        }
      ]
    },
    {
      "cell_type": "markdown",
      "source": [
        "Dataset Shape"
      ],
      "metadata": {
        "id": "nrzri16RBxST"
      }
    },
    {
      "cell_type": "code",
      "source": [
        "dataset.shape"
      ],
      "metadata": {
        "colab": {
          "base_uri": "https://localhost:8080/"
        },
        "id": "2l9jH7NOCA7l",
        "outputId": "70f7f386-8f0b-420d-a561-b373b1e167be"
      },
      "execution_count": null,
      "outputs": [
        {
          "output_type": "execute_result",
          "data": {
            "text/plain": [
              "(3744, 5)"
            ]
          },
          "metadata": {},
          "execution_count": 10
        }
      ]
    },
    {
      "cell_type": "markdown",
      "source": [
        "Dataset Describing"
      ],
      "metadata": {
        "id": "wJjqHU5YNB-J"
      }
    },
    {
      "cell_type": "code",
      "source": [
        "dataset.describe()"
      ],
      "metadata": {
        "colab": {
          "base_uri": "https://localhost:8080/",
          "height": 300
        },
        "id": "2FvHdR4_LxFJ",
        "outputId": "f4c19480-0e5a-4449-f102-49f6a6d247d2"
      },
      "execution_count": null,
      "outputs": [
        {
          "output_type": "execute_result",
          "data": {
            "text/plain": [
              "              Price          Open          High           Low\n",
              "count   3744.000000   3744.000000   3744.000000   3744.000000\n",
              "mean    8709.264931   8696.973291   8943.827778   8423.173932\n",
              "std    14951.761124  14939.928071  15353.643871  14472.255066\n",
              "min        4.200000      4.200000      4.400000      3.900000\n",
              "25%      276.250000    275.425000    284.500000    268.475000\n",
              "50%     1044.550000   1043.150000   1068.800000   1004.500000\n",
              "75%     9082.025000   9080.475000   9266.825000   8806.725000\n",
              "max    67527.900000  67528.700000  68990.600000  66334.900000"
            ],
            "text/html": [
              "\n",
              "  <div id=\"df-8fb88ca9-c457-4b81-9372-1b5e771ad953\">\n",
              "    <div class=\"colab-df-container\">\n",
              "      <div>\n",
              "<style scoped>\n",
              "    .dataframe tbody tr th:only-of-type {\n",
              "        vertical-align: middle;\n",
              "    }\n",
              "\n",
              "    .dataframe tbody tr th {\n",
              "        vertical-align: top;\n",
              "    }\n",
              "\n",
              "    .dataframe thead th {\n",
              "        text-align: right;\n",
              "    }\n",
              "</style>\n",
              "<table border=\"1\" class=\"dataframe\">\n",
              "  <thead>\n",
              "    <tr style=\"text-align: right;\">\n",
              "      <th></th>\n",
              "      <th>Price</th>\n",
              "      <th>Open</th>\n",
              "      <th>High</th>\n",
              "      <th>Low</th>\n",
              "    </tr>\n",
              "  </thead>\n",
              "  <tbody>\n",
              "    <tr>\n",
              "      <th>count</th>\n",
              "      <td>3744.000000</td>\n",
              "      <td>3744.000000</td>\n",
              "      <td>3744.000000</td>\n",
              "      <td>3744.000000</td>\n",
              "    </tr>\n",
              "    <tr>\n",
              "      <th>mean</th>\n",
              "      <td>8709.264931</td>\n",
              "      <td>8696.973291</td>\n",
              "      <td>8943.827778</td>\n",
              "      <td>8423.173932</td>\n",
              "    </tr>\n",
              "    <tr>\n",
              "      <th>std</th>\n",
              "      <td>14951.761124</td>\n",
              "      <td>14939.928071</td>\n",
              "      <td>15353.643871</td>\n",
              "      <td>14472.255066</td>\n",
              "    </tr>\n",
              "    <tr>\n",
              "      <th>min</th>\n",
              "      <td>4.200000</td>\n",
              "      <td>4.200000</td>\n",
              "      <td>4.400000</td>\n",
              "      <td>3.900000</td>\n",
              "    </tr>\n",
              "    <tr>\n",
              "      <th>25%</th>\n",
              "      <td>276.250000</td>\n",
              "      <td>275.425000</td>\n",
              "      <td>284.500000</td>\n",
              "      <td>268.475000</td>\n",
              "    </tr>\n",
              "    <tr>\n",
              "      <th>50%</th>\n",
              "      <td>1044.550000</td>\n",
              "      <td>1043.150000</td>\n",
              "      <td>1068.800000</td>\n",
              "      <td>1004.500000</td>\n",
              "    </tr>\n",
              "    <tr>\n",
              "      <th>75%</th>\n",
              "      <td>9082.025000</td>\n",
              "      <td>9080.475000</td>\n",
              "      <td>9266.825000</td>\n",
              "      <td>8806.725000</td>\n",
              "    </tr>\n",
              "    <tr>\n",
              "      <th>max</th>\n",
              "      <td>67527.900000</td>\n",
              "      <td>67528.700000</td>\n",
              "      <td>68990.600000</td>\n",
              "      <td>66334.900000</td>\n",
              "    </tr>\n",
              "  </tbody>\n",
              "</table>\n",
              "</div>\n",
              "      <button class=\"colab-df-convert\" onclick=\"convertToInteractive('df-8fb88ca9-c457-4b81-9372-1b5e771ad953')\"\n",
              "              title=\"Convert this dataframe to an interactive table.\"\n",
              "              style=\"display:none;\">\n",
              "        \n",
              "  <svg xmlns=\"http://www.w3.org/2000/svg\" height=\"24px\"viewBox=\"0 0 24 24\"\n",
              "       width=\"24px\">\n",
              "    <path d=\"M0 0h24v24H0V0z\" fill=\"none\"/>\n",
              "    <path d=\"M18.56 5.44l.94 2.06.94-2.06 2.06-.94-2.06-.94-.94-2.06-.94 2.06-2.06.94zm-11 1L8.5 8.5l.94-2.06 2.06-.94-2.06-.94L8.5 2.5l-.94 2.06-2.06.94zm10 10l.94 2.06.94-2.06 2.06-.94-2.06-.94-.94-2.06-.94 2.06-2.06.94z\"/><path d=\"M17.41 7.96l-1.37-1.37c-.4-.4-.92-.59-1.43-.59-.52 0-1.04.2-1.43.59L10.3 9.45l-7.72 7.72c-.78.78-.78 2.05 0 2.83L4 21.41c.39.39.9.59 1.41.59.51 0 1.02-.2 1.41-.59l7.78-7.78 2.81-2.81c.8-.78.8-2.07 0-2.86zM5.41 20L4 18.59l7.72-7.72 1.47 1.35L5.41 20z\"/>\n",
              "  </svg>\n",
              "      </button>\n",
              "      \n",
              "  <style>\n",
              "    .colab-df-container {\n",
              "      display:flex;\n",
              "      flex-wrap:wrap;\n",
              "      gap: 12px;\n",
              "    }\n",
              "\n",
              "    .colab-df-convert {\n",
              "      background-color: #E8F0FE;\n",
              "      border: none;\n",
              "      border-radius: 50%;\n",
              "      cursor: pointer;\n",
              "      display: none;\n",
              "      fill: #1967D2;\n",
              "      height: 32px;\n",
              "      padding: 0 0 0 0;\n",
              "      width: 32px;\n",
              "    }\n",
              "\n",
              "    .colab-df-convert:hover {\n",
              "      background-color: #E2EBFA;\n",
              "      box-shadow: 0px 1px 2px rgba(60, 64, 67, 0.3), 0px 1px 3px 1px rgba(60, 64, 67, 0.15);\n",
              "      fill: #174EA6;\n",
              "    }\n",
              "\n",
              "    [theme=dark] .colab-df-convert {\n",
              "      background-color: #3B4455;\n",
              "      fill: #D2E3FC;\n",
              "    }\n",
              "\n",
              "    [theme=dark] .colab-df-convert:hover {\n",
              "      background-color: #434B5C;\n",
              "      box-shadow: 0px 1px 3px 1px rgba(0, 0, 0, 0.15);\n",
              "      filter: drop-shadow(0px 1px 2px rgba(0, 0, 0, 0.3));\n",
              "      fill: #FFFFFF;\n",
              "    }\n",
              "  </style>\n",
              "\n",
              "      <script>\n",
              "        const buttonEl =\n",
              "          document.querySelector('#df-8fb88ca9-c457-4b81-9372-1b5e771ad953 button.colab-df-convert');\n",
              "        buttonEl.style.display =\n",
              "          google.colab.kernel.accessAllowed ? 'block' : 'none';\n",
              "\n",
              "        async function convertToInteractive(key) {\n",
              "          const element = document.querySelector('#df-8fb88ca9-c457-4b81-9372-1b5e771ad953');\n",
              "          const dataTable =\n",
              "            await google.colab.kernel.invokeFunction('convertToInteractive',\n",
              "                                                     [key], {});\n",
              "          if (!dataTable) return;\n",
              "\n",
              "          const docLinkHtml = 'Like what you see? Visit the ' +\n",
              "            '<a target=\"_blank\" href=https://colab.research.google.com/notebooks/data_table.ipynb>data table notebook</a>'\n",
              "            + ' to learn more about interactive tables.';\n",
              "          element.innerHTML = '';\n",
              "          dataTable['output_type'] = 'display_data';\n",
              "          await google.colab.output.renderOutput(dataTable, element);\n",
              "          const docLink = document.createElement('div');\n",
              "          docLink.innerHTML = docLinkHtml;\n",
              "          element.appendChild(docLink);\n",
              "        }\n",
              "      </script>\n",
              "    </div>\n",
              "  </div>\n",
              "  "
            ]
          },
          "metadata": {},
          "execution_count": 11
        }
      ]
    },
    {
      "cell_type": "code",
      "source": [
        "X=dataset[['Open','Low','High']]\n",
        "Y=dataset['Price']"
      ],
      "metadata": {
        "id": "Elc7gCEfNG_r"
      },
      "execution_count": null,
      "outputs": []
    },
    {
      "cell_type": "markdown",
      "source": [
        "Splitting the Dataset into Traing and Testing Set"
      ],
      "metadata": {
        "id": "5tRpZXXFShHp"
      }
    },
    {
      "cell_type": "code",
      "source": [
        "X_train, X_test, Y_train, Y_test = train_test_split(X, Y, test_size = 0.25, random_state = 0)"
      ],
      "metadata": {
        "id": "MrRIkprpSZAo"
      },
      "execution_count": null,
      "outputs": []
    },
    {
      "cell_type": "markdown",
      "source": [
        "Model Fitting"
      ],
      "metadata": {
        "id": "aTFtwITLTMwX"
      }
    },
    {
      "cell_type": "code",
      "source": [
        "bppmlr = LinearRegression()\n",
        "bppmlr.fit(X_train,Y_train)"
      ],
      "metadata": {
        "colab": {
          "base_uri": "https://localhost:8080/"
        },
        "id": "8zn_dN5HTMdY",
        "outputId": "d301e405-fd8f-4971-be8e-feb495f75ba3"
      },
      "execution_count": null,
      "outputs": [
        {
          "output_type": "execute_result",
          "data": {
            "text/plain": [
              "LinearRegression()"
            ]
          },
          "metadata": {},
          "execution_count": 14
        }
      ]
    },
    {
      "cell_type": "markdown",
      "source": [
        "Intercepts and Coefficients"
      ],
      "metadata": {
        "id": "kPD3J6tuThkg"
      }
    },
    {
      "cell_type": "code",
      "source": [
        "print(\"Intercept: \", bppmlr.intercept_)\n",
        "print(\"Coefficients:\")\n",
        "list(zip(X, bppmlr.coef_))"
      ],
      "metadata": {
        "colab": {
          "base_uri": "https://localhost:8080/"
        },
        "id": "9IayZihBThQh",
        "outputId": "56a857f7-9451-4e0a-db7d-770b108dcc14"
      },
      "execution_count": null,
      "outputs": [
        {
          "output_type": "stream",
          "name": "stdout",
          "text": [
            "Intercept:  3.682753442300964\n",
            "Coefficients:\n"
          ]
        },
        {
          "output_type": "execute_result",
          "data": {
            "text/plain": [
              "[('Open', -0.5430728086439843),\n",
              " ('Low', 0.6454893447436105),\n",
              " ('High', 0.8933086489532557)]"
            ]
          },
          "metadata": {},
          "execution_count": 15
        }
      ]
    },
    {
      "cell_type": "code",
      "source": [
        "pred_bppmlr= bppmlr.predict(X_test)\n",
        "print(\"Prediction for Testing Set: {}\".format(pred_bppmlr))\n",
        "mlr_diff = pd.DataFrame({'Actual value': Y_test, 'Predicted value': pred_bppmlr})\n",
        "mlr_diff.head()"
      ],
      "metadata": {
        "colab": {
          "base_uri": "https://localhost:8080/",
          "height": 4454
        },
        "id": "NsR0bGg_cFR1",
        "outputId": "285e680b-d320-4b6a-f4bf-67bb59c0e932"
      },
      "execution_count": null,
      "outputs": [
        {
          "output_type": "stream",
          "name": "stdout",
          "text": [
            "Prediction for Testing Set: [7.33289102e+03 6.85741036e+02 9.98060404e+00 9.62124261e+03\n",
            " 1.14008377e+04 2.73346243e+02 1.13495777e+04 5.13583230e+02\n",
            " 6.53631915e+02 1.06807107e+01 2.31854022e+02 8.22511019e+03\n",
            " 4.63032828e+04 1.54468509e+01 1.02521141e+04 3.19164302e+02\n",
            " 1.02895632e+01 8.21178635e+02 6.63224234e+02 6.00563536e+02\n",
            " 1.74779279e+02 4.32606955e+02 8.85028275e+00 8.17146276e+02\n",
            " 6.13535599e+02 9.17996401e+02 4.42543993e+04 4.71049615e+04\n",
            " 3.84349986e+03 2.68196177e+02 1.14386235e+04 1.38807244e+04\n",
            " 1.13113189e+04 5.34420729e+02 3.84626520e+03 1.12207395e+01\n",
            " 7.29799838e+02 6.78562733e+02 4.25018895e+02 3.85099578e+04\n",
            " 4.85273077e+04 3.21436395e+04 3.94932713e+03 1.75536043e+04\n",
            " 2.81285078e+02 6.46007977e+03 2.84912789e+02 9.39087262e+03\n",
            " 9.06567140e+02 1.06881083e+01 1.05158255e+04 8.17466844e+02\n",
            " 3.79237550e+02 6.25770761e+03 9.09826312e+01 8.75408887e+02\n",
            " 5.82760630e+02 8.59683043e+00 6.57796043e+03 1.40001695e+02\n",
            " 1.56257479e+03 3.73118668e+02 4.18026761e+02 5.69374477e+02\n",
            " 2.62063434e+03 3.78551019e+02 3.77705834e+02 6.65185994e+03\n",
            " 7.04864072e+03 2.45563143e+01 2.42897225e+02 1.45243301e+02\n",
            " 3.75774390e+03 9.67983286e+03 3.61873878e+03 3.84514021e+03\n",
            " 7.16729431e+03 4.01514530e+03 5.84113399e+04 1.10047413e+04\n",
            " 4.57963164e+02 6.50965900e+02 4.01745751e+02 8.00215769e+03\n",
            " 3.80450892e+04 6.38761870e+02 4.88001994e+04 6.31581684e+02\n",
            " 1.01888053e+04 1.71949541e+04 2.40301002e+02 5.68670432e+02\n",
            " 5.34951240e+03 5.13966389e+01 8.52373326e+03 1.04743482e+02\n",
            " 1.44070601e+01 9.89351245e+03 4.60711947e+02 6.66563085e+03\n",
            " 3.89567949e+03 1.45211729e+01 9.38960399e+02 6.06288223e+02\n",
            " 3.46413812e+03 9.54763918e+03 1.59549551e+01 1.59651968e+01\n",
            " 4.62785601e+02 3.21217576e+02 6.83541653e+03 8.29451101e+03\n",
            " 6.37873790e+02 6.71041946e+03 6.27417276e+02 1.90428235e+04\n",
            " 7.98188363e+03 2.50178220e+02 9.04942779e+00 4.09049021e+03\n",
            " 2.37676848e+02 1.14922267e+04 1.91255745e+04 1.32324810e+02\n",
            " 1.14342719e+04 3.44197320e+02 8.85028275e+00 4.51795401e+02\n",
            " 7.43975797e+03 1.04261804e+02 1.80481308e+04 1.06891214e+04\n",
            " 1.18698147e+04 9.86622591e+03 2.44148002e+02 4.74429921e+04\n",
            " 1.53575200e+01 3.49826075e+02 3.97408175e+03 1.72096309e+01\n",
            " 2.95939613e+02 8.73584162e+02 4.61778258e+04 2.28821701e+02\n",
            " 3.62297696e+03 2.91121783e+01 1.13888204e+04 5.81482734e+04\n",
            " 3.16602218e+02 4.42736308e+02 1.40370145e+02 2.41463398e+02\n",
            " 1.44921056e+02 2.53757548e+02 9.16474019e+00 2.41231271e+03\n",
            " 1.07034727e+04 7.36639157e+02 4.27065471e+02 5.55996780e+01\n",
            " 2.08821696e+02 2.39639517e+02 2.11216520e+02 3.66616002e+03\n",
            " 3.25383683e+02 4.14834293e+02 6.34267899e+02 4.26544643e+03\n",
            " 9.54663928e+02 1.44304922e+02 4.38679375e+02 5.83105831e+02\n",
            " 1.70852764e+01 8.85028275e+00 4.26308472e+03 9.62637959e+00\n",
            " 1.54070839e+01 9.63662125e+00 1.05920234e+02 8.49725791e+00\n",
            " 4.41497990e+03 8.11330306e+02 1.14105253e+02 1.30232086e+04\n",
            " 7.93167081e+03 2.71376746e+03 4.17038079e+04 1.58348993e+01\n",
            " 1.05077275e+04 3.28403460e+03 6.70136066e+03 2.70740095e+03\n",
            " 1.65421486e+01 9.92629676e+00 4.37035228e+02 9.49444016e+03\n",
            " 2.16855316e+02 3.78465776e+02 8.33938951e+00 1.10974078e+04\n",
            " 1.75578310e+04 6.80492160e+03 1.17882915e+03 2.47818180e+02\n",
            " 4.34119962e+03 8.75450305e+03 1.14127419e+01 1.32917931e+04\n",
            " 1.00041864e+01 1.91337945e+04 2.34730334e+02 3.28188442e+02\n",
            " 8.08618687e+03 7.75276623e+03 6.59132700e+04 1.26395367e+01\n",
            " 1.06005427e+04 3.82719173e+04 4.12019571e+04 5.48644216e+03\n",
            " 3.22271751e+03 3.37274056e+03 4.68227170e+02 3.49523785e+04\n",
            " 3.82083630e+04 9.55565589e+01 5.27598756e+03 7.24714708e+03\n",
            " 1.04883726e+04 1.59139885e+01 4.77355278e+02 6.78047290e+02\n",
            " 8.08094293e+03 6.13927001e+04 1.07958699e+04 5.81407126e+04\n",
            " 5.19142929e+04 1.05796251e+04 1.81064997e+03 1.70955181e+01\n",
            " 1.19094212e+04 3.70804064e+04 9.20761710e+01 6.90347555e+03\n",
            " 8.44304292e+03 1.08385193e+04 1.09836198e+03 4.82060113e+02\n",
            " 1.89445764e+04 1.07468074e+02 6.51276659e+03 2.33944592e+04\n",
            " 5.28634206e+03 1.17562261e+02 1.71148018e+01 7.76864734e+03\n",
            " 1.55464234e+01 5.91508800e+02 9.70661460e+03 8.79597547e+00\n",
            " 5.91477181e+02 3.02829735e+04 3.92047865e+03 4.58028732e+02\n",
            " 1.05235097e+02 1.14422603e+04 5.07839637e+01 6.74360326e+03\n",
            " 2.36588913e+02 1.18420305e+02 8.48701626e+00 4.72926875e+04\n",
            " 3.82858972e+04 6.53235867e+03 1.06623627e+04 4.23423584e+04\n",
            " 4.64758792e+04 9.66591290e+03 6.71626252e+03 2.77925183e+02\n",
            " 7.82516095e+02 1.23826512e+02 1.79066385e+01 4.58700591e+04\n",
            " 4.00080003e+03 4.68741545e+04 5.66194967e+03 2.74224284e+03\n",
            " 4.20944134e+02 6.10358920e+02 4.58983910e+02 1.38229656e+01\n",
            " 3.99869640e+03 8.06542895e+03 2.75988524e+03 1.39281415e+02\n",
            " 1.25175992e+03 1.03309029e+03 4.20280561e+02 1.12648051e+01\n",
            " 7.12362289e+03 2.99445009e+02 4.53797303e+04 6.93675358e+02\n",
            " 3.87287882e+03 2.32983719e+04 6.59970144e+03 3.49204535e+01\n",
            " 1.06767746e+02 1.09280697e+02 8.05574512e+03 4.74165315e+04\n",
            " 1.45809784e+01 1.62084075e+01 3.86078239e+02 6.26123813e+02\n",
            " 2.06532000e+03 1.53370367e+01 2.34238770e+02 1.08101169e+04\n",
            " 1.01828481e+01 3.96936284e+04 8.96127412e+03 7.20467876e+03\n",
            " 3.88682897e+04 3.60728909e+04 7.56878670e+03 8.84004110e+00\n",
            " 9.59662419e+01 7.95226887e+02 4.78188011e+02 3.66336949e+04\n",
            " 3.20018880e+02 8.26154608e+01 3.31014588e+03 8.08820448e+03\n",
            " 3.75173220e+02 1.29206397e+02 8.08586894e+03 9.17491856e+03\n",
            " 6.06536863e+02 4.26194782e+02 7.24800559e+03 9.42095227e+02\n",
            " 2.91578612e+02 9.66034796e+03 6.05818427e+02 6.32233016e+03\n",
            " 4.91694252e+02 5.61910253e+04 3.46185190e+04 1.15423898e+02\n",
            " 8.55156520e+00 8.18948417e+03 1.28956432e+01 5.60354480e+04\n",
            " 1.89265153e+04 5.18735513e+03 5.52356322e+04 4.56164014e+04\n",
            " 2.89231471e+03 2.95429418e+02 9.28016297e+03 1.09431297e+04\n",
            " 7.44526090e+01 2.53429481e+03 2.37958340e+02 3.32057805e+02\n",
            " 1.45411935e+02 9.87146137e+02 6.68015374e+02 2.81801034e+02\n",
            " 1.54950781e+03 7.03983596e+03 1.03530477e+04 6.72324200e+03\n",
            " 6.40975202e+03 2.41442400e+02 4.48378531e+02 4.72518904e+04\n",
            " 8.69640295e+00 5.01505604e+01 5.94054654e+02 4.36734618e+02\n",
            " 4.43311834e+04 1.27168895e+03 1.17758308e+03 6.43913631e+03\n",
            " 1.22837464e+02 6.36698728e+02 3.42431057e+04 6.29288330e+02\n",
            " 4.17635694e+03 1.48934814e+01 8.59683043e+00 1.02155674e+04\n",
            " 2.65090141e+02 4.35571070e+01 1.03463920e+02 6.29725960e+04\n",
            " 6.57373779e+03 1.66634879e+04 1.24145605e+03 3.62169031e+04\n",
            " 1.37754263e+04 4.27249299e+04 9.93528285e+03 5.89511208e+02\n",
            " 1.00025970e+01 1.04506735e+03 9.00966078e+00 7.60277946e+03\n",
            " 2.62490472e+01 9.03754402e+02 2.85714256e+02 6.36043968e+03\n",
            " 9.04788519e+03 5.80888884e+02 1.20682428e+02 3.61470032e+02\n",
            " 9.98715277e+03 3.63200378e+04 9.14232858e+03 3.59836430e+03\n",
            " 2.58214068e+02 9.69191796e+03 1.02698810e+04 3.66457761e+03\n",
            " 8.30361111e+00 8.36564769e+03 7.95962832e+00 1.16047794e+04\n",
            " 8.64089606e+00 1.15206771e+04 1.67818155e+01 7.91765654e+02\n",
            " 3.27451108e+02 7.36502195e+02 9.41860192e+03 2.40925483e+02\n",
            " 5.80585434e+02 1.16377575e+04 2.87048613e+02 5.08778345e+02\n",
            " 1.37265472e+01 2.64057527e+03 5.74101089e+02 2.95380640e+02\n",
            " 1.04707077e+03 1.58954272e+04 6.54801529e+03 1.16283717e+02\n",
            " 3.51491476e+02 1.01344838e+01 8.98208499e+03 3.53112347e+04\n",
            " 4.28269336e+04 4.15496703e+04 4.06229425e+02 2.36553037e+04\n",
            " 8.18753231e+02 4.77386963e+04 5.61846838e+04 1.21177504e+04\n",
            " 1.13862025e+04 1.71293421e+01 1.51903922e+04 9.46008268e+03\n",
            " 1.86803318e+04 3.21660377e+02 2.92273543e+02 4.26800956e+02\n",
            " 5.81990384e+02 1.91407131e+04 8.79251790e+02 2.33034807e+02\n",
            " 6.62708211e+03 7.55705228e+02 8.57328764e+03 3.36433951e+01\n",
            " 1.52126823e+01 6.51503959e+02 6.60197115e+03 9.16053762e+03\n",
            " 2.98809571e+02 1.05007801e+03 7.33603082e+02 6.72482750e+03\n",
            " 2.41702914e+02 3.38854398e+02 4.26763727e+02 2.86947436e+04\n",
            " 9.57831691e+03 1.13713531e+04 1.00001718e+04 4.04616002e+04\n",
            " 2.79366593e+02 1.46605124e+01 1.46750527e+01 4.93808331e+02\n",
            " 8.62161236e+00 1.13989108e+04 1.42231533e+02 6.69328854e+02\n",
            " 3.61887707e+04 1.46455273e+01 4.80647514e+04 9.28359641e+00\n",
            " 8.94985527e+00 8.47677461e+00 1.18739116e+02 9.83884738e+03\n",
            " 1.71395837e+01 3.66412001e+04 4.20521906e+04 4.85162621e+04\n",
            " 5.67720955e+04 4.74041171e+04 1.65593948e+02 4.55574504e+02\n",
            " 3.31659333e+04 6.48029909e+02 1.03788941e+01 1.93198475e+04\n",
            " 4.08412005e+04 4.80403181e+03 9.64020932e+03 8.85028275e+00\n",
            " 9.03875139e+02 1.13684127e+02 8.99512051e+00 1.57353268e+01\n",
            " 4.53953530e+04 7.68422948e+03 3.71045723e+04 1.05992363e+04\n",
            " 3.55941275e+02 3.36757638e+02 1.04784666e+01 4.08254899e+02\n",
            " 8.71790137e+03 7.20631991e+03 1.04668127e+04 9.95107869e+00\n",
            " 1.43854298e+02 5.43458268e+04 4.18906229e+02 3.62061447e+04\n",
            " 1.57558101e+01 6.73518060e+02 1.02147727e+01 4.63283877e+04\n",
            " 1.55326380e+01 3.75473702e+03 8.73022693e+00 3.84971850e+03\n",
            " 7.11202920e+03 6.57529844e+02 8.56660733e+03 4.42954636e+03\n",
            " 3.83525481e+02 9.28661233e+03 1.02313399e+04 6.63242550e+02\n",
            " 1.06822554e+04 8.97952484e+02 1.00181606e+04 4.34043113e+04\n",
            " 6.76708962e+02 5.13949816e+02 8.01530725e+03 2.81441140e+03\n",
            " 1.43906206e+02 6.00225044e+04 1.59904323e+02 1.03804414e+04\n",
            " 3.97097883e+03 2.49004343e+02 8.77561281e+03 6.71088317e+03\n",
            " 2.59158226e+02 1.57022576e+01 1.46605124e+01 5.94023621e+03\n",
            " 3.34054057e+04 1.16489483e+04 5.77861852e+02 4.24002610e+04\n",
            " 2.08093209e+02 6.06734498e+02 2.94031404e+02 5.78186544e+04\n",
            " 3.55317743e+02 4.23640974e+02 5.22846576e+03 2.54552365e+03\n",
            " 4.53080472e+02 6.81738052e+03 2.41484875e+02 4.23149280e+02\n",
            " 6.00423738e+04 8.65113771e+00 9.30522274e+03 1.05952204e+04\n",
            " 2.41940853e+02 7.02715969e+02 6.41563723e+03 2.43455908e+02\n",
            " 5.95903670e+03 6.39437400e+02 4.05674813e+04 1.18060942e+03\n",
            " 2.73824675e+01 1.03340356e+04 3.60246253e+04 1.05073608e+03\n",
            " 7.31890978e+03 5.96570752e+04 4.82672116e+04 9.50934770e+03\n",
            " 1.45211729e+01 4.64410688e+04 1.01661601e+04 2.46880664e+01\n",
            " 8.12938899e+02 2.45095023e+02 1.31476642e+02 8.58730145e+03\n",
            " 5.60569298e+03 5.54605709e+04 4.65879254e+04 3.66701181e+02\n",
            " 1.24801587e+01 7.87218418e+02 8.47774986e+03 1.32266534e+02\n",
            " 2.50768840e+03 9.47471202e+02 8.41284714e+02 9.49867567e+02\n",
            " 1.01954890e+01 4.57275917e+02 6.31320302e+03 1.08893899e+04\n",
            " 1.06571284e+01 1.44078149e+01 2.36259126e+02 1.50282512e+02\n",
            " 6.49278016e+03 5.79753813e+04 6.43103572e+03 3.85539070e+02\n",
            " 2.89576470e+03 1.03539890e+02 3.41123359e+03 1.33576527e+04\n",
            " 7.33878083e+02 6.27953837e+04 3.69340828e+02 2.60582101e+02\n",
            " 5.26853851e+03 3.47850221e+02 3.67233925e+04 3.28954023e+02\n",
            " 4.90120332e+03 1.36702855e+01 3.69564171e+02 8.01328314e+03\n",
            " 2.71917451e+02 8.47472700e+03 3.53047882e+03 4.98539970e+04\n",
            " 1.47278424e+04 8.84004110e+00 8.73007247e+03 6.31808430e+02\n",
            " 1.22467448e+01 1.13973866e+02 7.78084342e+03 5.05268978e+04\n",
            " 1.00801766e+01 1.47321268e+04 5.77116884e+02 6.23329084e+03\n",
            " 5.59570031e+04 1.69785613e+01 3.62206118e+03 2.43783268e+03\n",
            " 9.19304775e+02 1.02008024e+04 6.28741766e+02 2.33696591e+02\n",
            " 1.21632271e+03 4.30460811e+02 5.52921544e+04 1.89101251e+04\n",
            " 7.14633778e+03 1.00759822e+04 2.04123912e+01 6.46088360e+04\n",
            " 4.46833670e+04 3.62124851e+04 4.74646806e+02 2.90004768e+02\n",
            " 6.06605585e+02 1.45425971e+02 5.84600638e+02 1.63134782e+01\n",
            " 6.73199766e+02 4.01252799e+03 5.66644077e+04 3.27259245e+01\n",
            " 2.63699349e+04 6.17593780e+02 6.11476936e+02 8.01662322e+03\n",
            " 1.06023297e+04 2.39465584e+02 6.31532874e+02 1.06910934e+04\n",
            " 6.50268344e+02 4.07952656e+04 9.24977281e+03 7.18456515e+03\n",
            " 5.66389181e+04 6.79488494e+03 2.55009074e+02 2.28350655e+02\n",
            " 3.87320871e+04 2.56499978e+02 2.52802552e+03 6.67637054e+03\n",
            " 1.43817891e+02 6.42042074e+03 9.35887677e+03 5.21477186e+03\n",
            " 6.84645803e+03 8.08128102e+03 1.00123569e+02 9.56496439e+03\n",
            " 4.34197590e+03 4.02450398e+02 5.14309280e+02 1.90261832e+04\n",
            " 2.27508920e+02 3.65521604e+03 1.71498254e+01 2.58486820e+02\n",
            " 5.40602687e+02 3.90038887e+04 9.76623914e+03 2.61196506e+02\n",
            " 1.45054330e+01 3.44804706e+03 8.76095189e+00 1.46502708e+01\n",
            " 1.00649731e+04 9.68528337e+03 4.06773654e+02 5.54362888e+04\n",
            " 6.18344946e+03 1.24644700e+02 9.91300287e+03 4.60368090e+02\n",
            " 6.07253754e+02 4.14221408e+02 6.08598681e+02 5.34481067e+03\n",
            " 1.11452226e+04 1.14645643e+04 6.37925524e+03 9.20768573e+03\n",
            " 5.14716221e+02 1.00677362e+04 1.61583988e+01 4.19264164e+04\n",
            " 9.12215903e+03 6.28963087e+03 3.91370367e+02 6.32193677e+03\n",
            " 7.99948949e+03 2.38911466e+02 1.24289504e+01 6.42575539e+03\n",
            " 3.65563277e+02 9.39022733e+01 3.69339790e+04 8.74755846e+03\n",
            " 5.29858660e+03 7.71104889e+02 6.67238677e+03 7.40982936e+02\n",
            " 1.07940074e+04 4.00661044e+03 4.84027573e+04 9.47249754e+03\n",
            " 1.70658098e+04 2.18010460e+02 1.74280596e+01 5.95588049e+02\n",
            " 3.88276327e+02 2.33408846e+02 6.86295975e+03 9.19185510e+03\n",
            " 6.56340896e+02 5.14008367e+02 2.62950313e+03 6.25531336e+03\n",
            " 7.49514234e+02 1.10843887e+02 9.70480567e+03 6.46775478e+03\n",
            " 1.04100745e+03 9.12486553e+03 7.80270459e+02 2.01514674e+02\n",
            " 2.87592260e+02 4.35409672e+02 8.20945651e+01 9.50387376e+01\n",
            " 1.10806986e+04 9.65211729e+03 1.11870337e+02 5.60580613e+04\n",
            " 2.55587570e+02 3.95771037e+02 9.09197572e+02 2.58220391e+03\n",
            " 1.49266748e+02 9.10977923e+03 1.00203264e+04 4.87323940e+02\n",
            " 1.72289146e+01 7.26005188e+02 4.48656304e+02 3.28007546e+02\n",
            " 5.69294682e+02 1.16732796e+04 6.29654768e+03 7.14172735e+03\n",
            " 2.61182298e+02 3.72132154e+04 4.17639319e+02 2.32599514e+02\n",
            " 7.44596497e+02 3.94605165e+04 7.62791042e+02 1.50440226e+04\n",
            " 4.69391989e+04 4.47543098e+02 2.96171312e+02 3.75381351e+04\n",
            " 6.55820521e+02 3.42460702e+02 1.30153019e+04 9.29949077e+03\n",
            " 2.54571982e+02 4.83410627e+04 8.49725791e+00 1.41485241e+02\n",
            " 4.32289897e+03 4.43948128e+02 2.34449550e+02 4.72439579e+04\n",
            " 9.76737606e+03 4.69985383e+02 1.13935701e+03 3.82123723e+02\n",
            " 9.97036238e+00 6.22774684e+04 1.80708266e+04 3.51141425e+04\n",
            " 7.96151444e+03 1.01045827e+04 7.29027846e+02 9.15184843e+03\n",
            " 2.34656016e+03 1.26790985e+02 5.25001915e+03 1.17700377e+04\n",
            " 1.54173256e+01 4.50631891e+02 1.16189316e+04 1.04946791e+02\n",
            " 8.49725791e+00 3.54162626e+02 1.49049227e+01 3.71994648e+02\n",
            " 9.00863157e+02 3.89422110e+03 1.43202882e+02 9.18402389e+00\n",
            " 1.69874504e+03 1.28276237e+03 3.85598103e+03 1.42574789e+01\n",
            " 5.90473550e+03 9.23477306e+03 2.31254573e+02 1.39702834e+02\n",
            " 6.17003690e+03 1.13187566e+04 9.80224943e+02 8.53024999e+03\n",
            " 1.09492773e+04 9.45292888e+01 9.46103600e+03 3.86879724e+03\n",
            " 5.45524034e+03 9.18412466e+03 5.27377000e+02 4.57222046e+02\n",
            " 4.27212409e+03 8.27738226e+02 8.85028275e+00 1.02981605e+01\n",
            " 1.17181449e+02 8.76095189e+00 3.56570854e+02 1.03984784e+04\n",
            " 3.94613892e+04 1.14927486e+03 1.15415923e+04 9.09143298e+03\n",
            " 8.98487885e+00 1.38584618e+02 3.77350575e+02 1.10067172e+04\n",
            " 1.68566060e+01 1.45959635e+01 4.45937072e+02 4.35088569e+02\n",
            " 8.74542927e+03 1.01312219e+04 4.15933805e+02 7.70293163e+03]\n"
          ]
        },
        {
          "output_type": "execute_result",
          "data": {
            "text/plain": [
              "      Actual value  Predicted value\n",
              "825         7321.5      7332.891018\n",
              "1982         682.3       685.741036\n",
              "3567           6.3         9.980604\n",
              "668         9527.6      9621.242607\n",
              "598        11390.4     11400.837734"
            ],
            "text/html": [
              "\n",
              "  <div id=\"df-19531592-3420-45da-82fb-f79d854d00b4\">\n",
              "    <div class=\"colab-df-container\">\n",
              "      <div>\n",
              "<style scoped>\n",
              "    .dataframe tbody tr th:only-of-type {\n",
              "        vertical-align: middle;\n",
              "    }\n",
              "\n",
              "    .dataframe tbody tr th {\n",
              "        vertical-align: top;\n",
              "    }\n",
              "\n",
              "    .dataframe thead th {\n",
              "        text-align: right;\n",
              "    }\n",
              "</style>\n",
              "<table border=\"1\" class=\"dataframe\">\n",
              "  <thead>\n",
              "    <tr style=\"text-align: right;\">\n",
              "      <th></th>\n",
              "      <th>Actual value</th>\n",
              "      <th>Predicted value</th>\n",
              "    </tr>\n",
              "  </thead>\n",
              "  <tbody>\n",
              "    <tr>\n",
              "      <th>825</th>\n",
              "      <td>7321.5</td>\n",
              "      <td>7332.891018</td>\n",
              "    </tr>\n",
              "    <tr>\n",
              "      <th>1982</th>\n",
              "      <td>682.3</td>\n",
              "      <td>685.741036</td>\n",
              "    </tr>\n",
              "    <tr>\n",
              "      <th>3567</th>\n",
              "      <td>6.3</td>\n",
              "      <td>9.980604</td>\n",
              "    </tr>\n",
              "    <tr>\n",
              "      <th>668</th>\n",
              "      <td>9527.6</td>\n",
              "      <td>9621.242607</td>\n",
              "    </tr>\n",
              "    <tr>\n",
              "      <th>598</th>\n",
              "      <td>11390.4</td>\n",
              "      <td>11400.837734</td>\n",
              "    </tr>\n",
              "  </tbody>\n",
              "</table>\n",
              "</div>\n",
              "      <button class=\"colab-df-convert\" onclick=\"convertToInteractive('df-19531592-3420-45da-82fb-f79d854d00b4')\"\n",
              "              title=\"Convert this dataframe to an interactive table.\"\n",
              "              style=\"display:none;\">\n",
              "        \n",
              "  <svg xmlns=\"http://www.w3.org/2000/svg\" height=\"24px\"viewBox=\"0 0 24 24\"\n",
              "       width=\"24px\">\n",
              "    <path d=\"M0 0h24v24H0V0z\" fill=\"none\"/>\n",
              "    <path d=\"M18.56 5.44l.94 2.06.94-2.06 2.06-.94-2.06-.94-.94-2.06-.94 2.06-2.06.94zm-11 1L8.5 8.5l.94-2.06 2.06-.94-2.06-.94L8.5 2.5l-.94 2.06-2.06.94zm10 10l.94 2.06.94-2.06 2.06-.94-2.06-.94-.94-2.06-.94 2.06-2.06.94z\"/><path d=\"M17.41 7.96l-1.37-1.37c-.4-.4-.92-.59-1.43-.59-.52 0-1.04.2-1.43.59L10.3 9.45l-7.72 7.72c-.78.78-.78 2.05 0 2.83L4 21.41c.39.39.9.59 1.41.59.51 0 1.02-.2 1.41-.59l7.78-7.78 2.81-2.81c.8-.78.8-2.07 0-2.86zM5.41 20L4 18.59l7.72-7.72 1.47 1.35L5.41 20z\"/>\n",
              "  </svg>\n",
              "      </button>\n",
              "      \n",
              "  <style>\n",
              "    .colab-df-container {\n",
              "      display:flex;\n",
              "      flex-wrap:wrap;\n",
              "      gap: 12px;\n",
              "    }\n",
              "\n",
              "    .colab-df-convert {\n",
              "      background-color: #E8F0FE;\n",
              "      border: none;\n",
              "      border-radius: 50%;\n",
              "      cursor: pointer;\n",
              "      display: none;\n",
              "      fill: #1967D2;\n",
              "      height: 32px;\n",
              "      padding: 0 0 0 0;\n",
              "      width: 32px;\n",
              "    }\n",
              "\n",
              "    .colab-df-convert:hover {\n",
              "      background-color: #E2EBFA;\n",
              "      box-shadow: 0px 1px 2px rgba(60, 64, 67, 0.3), 0px 1px 3px 1px rgba(60, 64, 67, 0.15);\n",
              "      fill: #174EA6;\n",
              "    }\n",
              "\n",
              "    [theme=dark] .colab-df-convert {\n",
              "      background-color: #3B4455;\n",
              "      fill: #D2E3FC;\n",
              "    }\n",
              "\n",
              "    [theme=dark] .colab-df-convert:hover {\n",
              "      background-color: #434B5C;\n",
              "      box-shadow: 0px 1px 3px 1px rgba(0, 0, 0, 0.15);\n",
              "      filter: drop-shadow(0px 1px 2px rgba(0, 0, 0, 0.3));\n",
              "      fill: #FFFFFF;\n",
              "    }\n",
              "  </style>\n",
              "\n",
              "      <script>\n",
              "        const buttonEl =\n",
              "          document.querySelector('#df-19531592-3420-45da-82fb-f79d854d00b4 button.colab-df-convert');\n",
              "        buttonEl.style.display =\n",
              "          google.colab.kernel.accessAllowed ? 'block' : 'none';\n",
              "\n",
              "        async function convertToInteractive(key) {\n",
              "          const element = document.querySelector('#df-19531592-3420-45da-82fb-f79d854d00b4');\n",
              "          const dataTable =\n",
              "            await google.colab.kernel.invokeFunction('convertToInteractive',\n",
              "                                                     [key], {});\n",
              "          if (!dataTable) return;\n",
              "\n",
              "          const docLinkHtml = 'Like what you see? Visit the ' +\n",
              "            '<a target=\"_blank\" href=https://colab.research.google.com/notebooks/data_table.ipynb>data table notebook</a>'\n",
              "            + ' to learn more about interactive tables.';\n",
              "          element.innerHTML = '';\n",
              "          dataTable['output_type'] = 'display_data';\n",
              "          await google.colab.output.renderOutput(dataTable, element);\n",
              "          const docLink = document.createElement('div');\n",
              "          docLink.innerHTML = docLinkHtml;\n",
              "          element.appendChild(docLink);\n",
              "        }\n",
              "      </script>\n",
              "    </div>\n",
              "  </div>\n",
              "  "
            ]
          },
          "metadata": {},
          "execution_count": 16
        }
      ]
    },
    {
      "cell_type": "markdown",
      "source": [
        "Metrices Calculation"
      ],
      "metadata": {
        "id": "C9JspQAbVJ0F"
      }
    },
    {
      "cell_type": "code",
      "source": [
        "meanAbErr = metrics.mean_absolute_error(Y_test, pred_bppmlr)\n",
        "meanSqErr = metrics.mean_squared_error(Y_test, pred_bppmlr)\n",
        "rootMeanSqErr = np.sqrt(metrics.mean_squared_error(Y_test, pred_bppmlr))\n",
        "print('R squared: {:.2f}'.format(bppmlr.score(X,Y)*100))\n",
        "print('Mean Absolute Error:', meanAbErr)\n",
        "print('Mean Square Error:', meanSqErr)\n",
        "print('Root Mean Square Error:', rootMeanSqErr)\n",
        "print(\"Training Model Accuracy: {:.3f}%\".format(bppmlr.score(X_train,Y_train)*100))"
      ],
      "metadata": {
        "colab": {
          "base_uri": "https://localhost:8080/"
        },
        "id": "6sq9DlfXVEqB",
        "outputId": "db29fafe-a8a8-4d19-c637-c5c29a88d7c4"
      },
      "execution_count": null,
      "outputs": [
        {
          "output_type": "stream",
          "name": "stdout",
          "text": [
            "R squared: 99.96\n",
            "Mean Absolute Error: 113.26661229816666\n",
            "Mean Square Error: 93053.78671346133\n",
            "Root Mean Square Error: 305.0471876832523\n",
            "Training Model Accuracy: 99.965%\n"
          ]
        }
      ]
    },
    {
      "cell_type": "markdown",
      "source": [
        "Model Accuracy"
      ],
      "metadata": {
        "id": "SNQo9cLCXCsx"
      }
    },
    {
      "cell_type": "code",
      "source": [
        "print(\"Testing Model Accuracy: {:.3f}%\".format(bppmlr.score(X_test,Y_test)*100))"
      ],
      "metadata": {
        "colab": {
          "base_uri": "https://localhost:8080/"
        },
        "id": "KopdcX73XFZG",
        "outputId": "1c8509d2-6cb1-4601-803c-5cd19a32314a"
      },
      "execution_count": null,
      "outputs": [
        {
          "output_type": "stream",
          "name": "stdout",
          "text": [
            "Testing Model Accuracy: 99.956%\n"
          ]
        }
      ]
    },
    {
      "cell_type": "markdown",
      "source": [
        "Plotting **'Open'** vs **'Price'**"
      ],
      "metadata": {
        "id": "Ve6z2K3sn10K"
      }
    },
    {
      "cell_type": "code",
      "source": [
        "x = dataset[['Open']]\n",
        "y = dataset['Price']\n",
        "x_train, x_test, y_train, y_test = train_test_split(x, y, test_size = 0.3, random_state = 100)\n",
        "open=LinearRegression()\n",
        "open.fit(x_train,y_train)\n",
        "open.score(x_train,y_train)\n",
        "predict=open.predict(x_test)\n",
        "plt.scatter(x_test,y_test,color=\"green\")\n",
        "plt.title(\"Open vs Price\")\n",
        "plt.plot(x_test,predict,color=\"red\",linewidth=2)"
      ],
      "metadata": {
        "colab": {
          "base_uri": "https://localhost:8080/",
          "height": 299
        },
        "id": "WEQoqtuljMAv",
        "outputId": "42a11d17-df9f-4662-ee96-ab276936b346"
      },
      "execution_count": null,
      "outputs": [
        {
          "output_type": "execute_result",
          "data": {
            "text/plain": [
              "[<matplotlib.lines.Line2D at 0x7f283bea1fd0>]"
            ]
          },
          "metadata": {},
          "execution_count": 19
        },
        {
          "output_type": "display_data",
          "data": {
            "text/plain": [
              "<Figure size 432x288 with 1 Axes>"
            ],
            "image/png": "[encoded data removed]"
          },
          "metadata": {
            "needs_background": "light"
          }
        }
      ]
    },
    {
      "cell_type": "markdown",
      "source": [
        "Plotting **'Low'** vs **'Price'**"
      ],
      "metadata": {
        "id": "0FKlFBmMn6-Y"
      }
    },
    {
      "cell_type": "code",
      "source": [
        "x = dataset[['Low']]\n",
        "y = dataset['Price']\n",
        "x_train, x_test, y_train, y_test = train_test_split(x, y, test_size = 0.3, random_state = 100)\n",
        "low=LinearRegression()\n",
        "low.fit(x_train,y_train)\n",
        "low.score(x_train,y_train)\n",
        "predict=low.predict(x_test)\n",
        "plt.title(\"Low vs Price\")\n",
        "plt.scatter(x_test,y_test,color=\"orange\")\n",
        "plt.plot(x_test,predict,color=\"green\",linewidth=2)"
      ],
      "metadata": {
        "colab": {
          "base_uri": "https://localhost:8080/",
          "height": 299
        },
        "id": "jFAXWuxJj963",
        "outputId": "3b8fe439-1486-4177-ca11-36f14547bc2b"
      },
      "execution_count": null,
      "outputs": [
        {
          "output_type": "execute_result",
          "data": {
            "text/plain": [
              "[<matplotlib.lines.Line2D at 0x7f283bedcc90>]"
            ]
          },
          "metadata": {},
          "execution_count": 20
        },
        {
          "output_type": "display_data",
          "data": {
            "text/plain": [
              "<Figure size 432x288 with 1 Axes>"
            ],
            "image/png": "[encoded data removed]"
          },
          "metadata": {
            "needs_background": "light"
          }
        }
      ]
    },
    {
      "cell_type": "markdown",
      "source": [
        "Plotting **'High'** vs **'Price'**"
      ],
      "metadata": {
        "id": "AKggxR5Wn93V"
      }
    },
    {
      "cell_type": "code",
      "source": [
        "x = dataset[['High']]\n",
        "y = dataset['Price']\n",
        "x_train, x_test, y_train, y_test = train_test_split(x, y, test_size = 0.3, random_state = 100)\n",
        "high=LinearRegression()\n",
        "high.fit(x_train,y_train)\n",
        "high.score(x_train,y_train)\n",
        "predict=high.predict(x_test)\n",
        "plt.title(\"High vs Price\")\n",
        "plt.scatter(x_test,y_test,color=\"yellow\")\n",
        "plt.plot(x_test,predict,color=\"black\",linewidth=2)"
      ],
      "metadata": {
        "colab": {
          "base_uri": "https://localhost:8080/",
          "height": 299
        },
        "id": "PmqJ-rR5kQMt",
        "outputId": "e2641b3e-ef44-4dde-8e3a-b845b1103fe6"
      },
      "execution_count": null,
      "outputs": [
        {
          "output_type": "execute_result",
          "data": {
            "text/plain": [
              "[<matplotlib.lines.Line2D at 0x7f2839626990>]"
            ]
          },
          "metadata": {},
          "execution_count": 21
        },
        {
          "output_type": "display_data",
          "data": {
            "text/plain": [
              "<Figure size 432x288 with 1 Axes>"
            ],
            "image/png": "[encoded data removed]"
          },
          "metadata": {
            "needs_background": "light"
          }
        }
      ]
    },
    {
      "cell_type": "markdown",
      "source": [
        "Model Prediction"
      ],
      "metadata": {
        "id": "VLYA-0YUZUAc"
      }
    },
    {
      "cell_type": "code",
      "source": [
        "n=int(input(\"Number of Inputs:\"))\n",
        "x_new=[]\n",
        "for i in range(n):\n",
        "  a=float(input(\"Enter the Open Price:\"))\n",
        "  b=float(input(\"Enter the Low Price:\"))\n",
        "  c=float(input(\"Enter the High Price:\"))\n",
        "  x_new.append([a,b,c])\n",
        "y_new=bppmlr.predict(x_new)\n",
        "print(\"Prediction of the Closing Price:\",y_new)"
      ],
      "metadata": {
        "colab": {
          "base_uri": "https://localhost:8080/"
        },
        "id": "NQ6r6pASZTiK",
        "outputId": "450de30b-3065-42cc-950d-39a1e4f3108d"
      },
      "execution_count": null,
      "outputs": [
        {
          "output_type": "stream",
          "name": "stdout",
          "text": [
            "Number of Inputs:1\n",
            "Enter the Open Price:15648\n",
            "Enter the Low Price:15333\n",
            "Enter the High Price:16254\n",
            "Prediction of the Closing Price: [15922.80634682]\n"
          ]
        },
        {
          "output_type": "stream",
          "name": "stderr",
          "text": [
            "/usr/local/lib/python3.7/dist-packages/sklearn/base.py:451: UserWarning: X does not have valid feature names, but LinearRegression was fitted with feature names\n",
            "  \"X does not have valid feature names, but\"\n"
          ]
        }
      ]
    },
    {
      "cell_type": "markdown",
      "source": [
        "Model Saving"
      ],
      "metadata": {
        "id": "EUoAlIXk9UMV"
      }
    },
    {
      "cell_type": "code",
      "source": [
        "jl.dump(bppmlr,'BTC_Price_Predictor.pkl')"
      ],
      "metadata": {
        "colab": {
          "base_uri": "https://localhost:8080/"
        },
        "id": "GNgHFeAr1hEp",
        "outputId": "ed84e5e8-659e-4183-967b-10b853b635a9"
      },
      "execution_count": null,
      "outputs": [
        {
          "output_type": "execute_result",
          "data": {
            "text/plain": [
              "['BTC_Price_Predictor.pkl']"
            ]
          },
          "metadata": {},
          "execution_count": 23
        }
      ]
    },
    {
      "cell_type": "markdown",
      "source": [
        "## Time Series Forecasting using ARIMA"
      ],
      "metadata": {
        "id": "a8Qt06N4TlzB"
      }
    },
    {
      "cell_type": "markdown",
      "source": [
        "*Structure*:\n",
        "\n",
        "*   **Yahoo Finance API**\n",
        "\n",
        "*   Daily Prices\n",
        "\n",
        "*   85% Data for Training and 15% Data for Testing\n",
        "\n",
        "*   Predicting Next Day's Bitcoin Price\n",
        "\n",
        "*   **Machine Learning Model: ARIMA**"
      ],
      "metadata": {
        "id": "ksWutIqA4ULH"
      }
    },
    {
      "cell_type": "markdown",
      "source": [
        "*ARIMA*:\n",
        "\n",
        "***Auto Regressive Integrated Moving Average***\n",
        "\n",
        "* **AR**: Autoregression. A Model that uses the dependent relationship between an observation and some number of lagged Observations.\n",
        "\n",
        "* **I**: Integrated. A use of differencing of raw observations in order to make the time series stationary\n",
        "\n",
        "* **MA**: Moving Average. A Model that uses the dependancy between an observation and a residual error from a moving average model applied to lagged Observations.\n",
        "\n",
        "***Parameters***:\n",
        "\n",
        "* **p**: The Number of Lag Observations included in the Model, also called as Lag Order \n",
        "\n",
        "* **d**: The Number of times that the raw observations differenced, also called the Degree of Differencing\n",
        "\n",
        "* **q**: The Size of the Moving Average Window, also called the Oreder of Moving Average"
      ],
      "metadata": {
        "id": "cVHz4YrT5EXJ"
      }
    },
    {
      "cell_type": "markdown",
      "source": [
        "Importing the Required Libraries"
      ],
      "metadata": {
        "id": "4SvM7EExXe_C"
      }
    },
    {
      "cell_type": "code",
      "source": [
        "import yfinance as yf\n",
        "import numpy as np\n",
        "import pandas as pd\n",
        "import matplotlib.pyplot as plt\n",
        "from statsmodels.tsa.arima_model import ARIMA"
      ],
      "metadata": {
        "colab": {
          "base_uri": "https://localhost:8080/"
        },
        "id": "Ch8Rhoqe-WcB",
        "outputId": "12fe8003-f270-42e8-de90-e04cd2c9e10f"
      },
      "execution_count": null,
      "outputs": [
        {
          "output_type": "stream",
          "name": "stderr",
          "text": [
            "/usr/local/lib/python3.7/dist-packages/statsmodels/tools/_testing.py:19: FutureWarning: pandas.util.testing is deprecated. Use the functions in the public API at pandas.testing instead.\n",
            "  import pandas.util.testing as tm\n"
          ]
        }
      ]
    },
    {
      "cell_type": "markdown",
      "source": [
        "Downloading the Bitcoin Historical Data from Yahoo Finance"
      ],
      "metadata": {
        "id": "ypQ50LE9XkFA"
      }
    },
    {
      "cell_type": "code",
      "source": [
        "data = yf.download('BTC-USD', start = '2015-01-01', end = '2022-04-01')"
      ],
      "metadata": {
        "colab": {
          "base_uri": "https://localhost:8080/"
        },
        "id": "-BXcfIP7-8d3",
        "outputId": "7b847eff-8b66-40ff-963f-3f27e743067a"
      },
      "execution_count": null,
      "outputs": [
        {
          "output_type": "stream",
          "name": "stdout",
          "text": [
            "\r[*********************100%***********************]  1 of 1 completed\n"
          ]
        }
      ]
    },
    {
      "cell_type": "markdown",
      "source": [
        "First Five Records in the Dataset"
      ],
      "metadata": {
        "id": "e9m3YR1KX2UN"
      }
    },
    {
      "cell_type": "code",
      "source": [
        "data.head()"
      ],
      "metadata": {
        "colab": {
          "base_uri": "https://localhost:8080/",
          "height": 238
        },
        "id": "q74XqgY3_Zup",
        "outputId": "ba360468-aae2-4a53-f2d7-d74d4315ca2a"
      },
      "execution_count": null,
      "outputs": [
        {
          "output_type": "execute_result",
          "data": {
            "text/plain": [
              "                  Open        High         Low       Close   Adj Close  \\\n",
              "Date                                                                     \n",
              "2015-01-01  320.434998  320.434998  314.002991  314.248993  314.248993   \n",
              "2015-01-02  314.079010  315.838989  313.565002  315.032013  315.032013   \n",
              "2015-01-03  314.846008  315.149994  281.082001  281.082001  281.082001   \n",
              "2015-01-04  281.145996  287.230011  257.612000  264.195007  264.195007   \n",
              "2015-01-05  265.084015  278.341003  265.084015  274.473999  274.473999   \n",
              "\n",
              "              Volume  \n",
              "Date                  \n",
              "2015-01-01   8036550  \n",
              "2015-01-02   7860650  \n",
              "2015-01-03  33054400  \n",
              "2015-01-04  55629100  \n",
              "2015-01-05  43962800  "
            ],
            "text/html": [
              "\n",
              "  <div id=\"df-363525be-a365-45a7-896a-5b6241f8aba4\">\n",
              "    <div class=\"colab-df-container\">\n",
              "      <div>\n",
              "<style scoped>\n",
              "    .dataframe tbody tr th:only-of-type {\n",
              "        vertical-align: middle;\n",
              "    }\n",
              "\n",
              "    .dataframe tbody tr th {\n",
              "        vertical-align: top;\n",
              "    }\n",
              "\n",
              "    .dataframe thead th {\n",
              "        text-align: right;\n",
              "    }\n",
              "</style>\n",
              "<table border=\"1\" class=\"dataframe\">\n",
              "  <thead>\n",
              "    <tr style=\"text-align: right;\">\n",
              "      <th></th>\n",
              "      <th>Open</th>\n",
              "      <th>High</th>\n",
              "      <th>Low</th>\n",
              "      <th>Close</th>\n",
              "      <th>Adj Close</th>\n",
              "      <th>Volume</th>\n",
              "    </tr>\n",
              "    <tr>\n",
              "      <th>Date</th>\n",
              "      <th></th>\n",
              "      <th></th>\n",
              "      <th></th>\n",
              "      <th></th>\n",
              "      <th></th>\n",
              "      <th></th>\n",
              "    </tr>\n",
              "  </thead>\n",
              "  <tbody>\n",
              "    <tr>\n",
              "      <th>2015-01-01</th>\n",
              "      <td>320.434998</td>\n",
              "      <td>320.434998</td>\n",
              "      <td>314.002991</td>\n",
              "      <td>314.248993</td>\n",
              "      <td>314.248993</td>\n",
              "      <td>8036550</td>\n",
              "    </tr>\n",
              "    <tr>\n",
              "      <th>2015-01-02</th>\n",
              "      <td>314.079010</td>\n",
              "      <td>315.838989</td>\n",
              "      <td>313.565002</td>\n",
              "      <td>315.032013</td>\n",
              "      <td>315.032013</td>\n",
              "      <td>7860650</td>\n",
              "    </tr>\n",
              "    <tr>\n",
              "      <th>2015-01-03</th>\n",
              "      <td>314.846008</td>\n",
              "      <td>315.149994</td>\n",
              "      <td>281.082001</td>\n",
              "      <td>281.082001</td>\n",
              "      <td>281.082001</td>\n",
              "      <td>33054400</td>\n",
              "    </tr>\n",
              "    <tr>\n",
              "      <th>2015-01-04</th>\n",
              "      <td>281.145996</td>\n",
              "      <td>287.230011</td>\n",
              "      <td>257.612000</td>\n",
              "      <td>264.195007</td>\n",
              "      <td>264.195007</td>\n",
              "      <td>55629100</td>\n",
              "    </tr>\n",
              "    <tr>\n",
              "      <th>2015-01-05</th>\n",
              "      <td>265.084015</td>\n",
              "      <td>278.341003</td>\n",
              "      <td>265.084015</td>\n",
              "      <td>274.473999</td>\n",
              "      <td>274.473999</td>\n",
              "      <td>43962800</td>\n",
              "    </tr>\n",
              "  </tbody>\n",
              "</table>\n",
              "</div>\n",
              "      <button class=\"colab-df-convert\" onclick=\"convertToInteractive('df-363525be-a365-45a7-896a-5b6241f8aba4')\"\n",
              "              title=\"Convert this dataframe to an interactive table.\"\n",
              "              style=\"display:none;\">\n",
              "        \n",
              "  <svg xmlns=\"http://www.w3.org/2000/svg\" height=\"24px\"viewBox=\"0 0 24 24\"\n",
              "       width=\"24px\">\n",
              "    <path d=\"M0 0h24v24H0V0z\" fill=\"none\"/>\n",
              "    <path d=\"M18.56 5.44l.94 2.06.94-2.06 2.06-.94-2.06-.94-.94-2.06-.94 2.06-2.06.94zm-11 1L8.5 8.5l.94-2.06 2.06-.94-2.06-.94L8.5 2.5l-.94 2.06-2.06.94zm10 10l.94 2.06.94-2.06 2.06-.94-2.06-.94-.94-2.06-.94 2.06-2.06.94z\"/><path d=\"M17.41 7.96l-1.37-1.37c-.4-.4-.92-.59-1.43-.59-.52 0-1.04.2-1.43.59L10.3 9.45l-7.72 7.72c-.78.78-.78 2.05 0 2.83L4 21.41c.39.39.9.59 1.41.59.51 0 1.02-.2 1.41-.59l7.78-7.78 2.81-2.81c.8-.78.8-2.07 0-2.86zM5.41 20L4 18.59l7.72-7.72 1.47 1.35L5.41 20z\"/>\n",
              "  </svg>\n",
              "      </button>\n",
              "      \n",
              "  <style>\n",
              "    .colab-df-container {\n",
              "      display:flex;\n",
              "      flex-wrap:wrap;\n",
              "      gap: 12px;\n",
              "    }\n",
              "\n",
              "    .colab-df-convert {\n",
              "      background-color: #E8F0FE;\n",
              "      border: none;\n",
              "      border-radius: 50%;\n",
              "      cursor: pointer;\n",
              "      display: none;\n",
              "      fill: #1967D2;\n",
              "      height: 32px;\n",
              "      padding: 0 0 0 0;\n",
              "      width: 32px;\n",
              "    }\n",
              "\n",
              "    .colab-df-convert:hover {\n",
              "      background-color: #E2EBFA;\n",
              "      box-shadow: 0px 1px 2px rgba(60, 64, 67, 0.3), 0px 1px 3px 1px rgba(60, 64, 67, 0.15);\n",
              "      fill: #174EA6;\n",
              "    }\n",
              "\n",
              "    [theme=dark] .colab-df-convert {\n",
              "      background-color: #3B4455;\n",
              "      fill: #D2E3FC;\n",
              "    }\n",
              "\n",
              "    [theme=dark] .colab-df-convert:hover {\n",
              "      background-color: #434B5C;\n",
              "      box-shadow: 0px 1px 3px 1px rgba(0, 0, 0, 0.15);\n",
              "      filter: drop-shadow(0px 1px 2px rgba(0, 0, 0, 0.3));\n",
              "      fill: #FFFFFF;\n",
              "    }\n",
              "  </style>\n",
              "\n",
              "      <script>\n",
              "        const buttonEl =\n",
              "          document.querySelector('#df-363525be-a365-45a7-896a-5b6241f8aba4 button.colab-df-convert');\n",
              "        buttonEl.style.display =\n",
              "          google.colab.kernel.accessAllowed ? 'block' : 'none';\n",
              "\n",
              "        async function convertToInteractive(key) {\n",
              "          const element = document.querySelector('#df-363525be-a365-45a7-896a-5b6241f8aba4');\n",
              "          const dataTable =\n",
              "            await google.colab.kernel.invokeFunction('convertToInteractive',\n",
              "                                                     [key], {});\n",
              "          if (!dataTable) return;\n",
              "\n",
              "          const docLinkHtml = 'Like what you see? Visit the ' +\n",
              "            '<a target=\"_blank\" href=https://colab.research.google.com/notebooks/data_table.ipynb>data table notebook</a>'\n",
              "            + ' to learn more about interactive tables.';\n",
              "          element.innerHTML = '';\n",
              "          dataTable['output_type'] = 'display_data';\n",
              "          await google.colab.output.renderOutput(dataTable, element);\n",
              "          const docLink = document.createElement('div');\n",
              "          docLink.innerHTML = docLinkHtml;\n",
              "          element.appendChild(docLink);\n",
              "        }\n",
              "      </script>\n",
              "    </div>\n",
              "  </div>\n",
              "  "
            ]
          },
          "metadata": {},
          "execution_count": 26
        }
      ]
    },
    {
      "cell_type": "markdown",
      "source": [
        "Last Five Records in the Dataset"
      ],
      "metadata": {
        "id": "_g49T9nmX7Dx"
      }
    },
    {
      "cell_type": "code",
      "source": [
        "data.tail()"
      ],
      "metadata": {
        "colab": {
          "base_uri": "https://localhost:8080/",
          "height": 238
        },
        "id": "SFZh3wTB_bvx",
        "outputId": "de7dd025-8a20-405d-a8d3-596421e7bb38"
      },
      "execution_count": null,
      "outputs": [
        {
          "output_type": "execute_result",
          "data": {
            "text/plain": [
              "                    Open          High           Low         Close  \\\n",
              "Date                                                                 \n",
              "2022-03-28  46821.851562  48086.835938  46690.203125  47128.003906   \n",
              "2022-03-29  47100.437500  48022.289062  47100.437500  47465.730469   \n",
              "2022-03-30  47456.898438  47655.148438  46746.210938  47062.664062   \n",
              "2022-03-31  47062.148438  47512.027344  45390.539062  45538.675781   \n",
              "2022-04-01  45554.164062  46616.242188  44403.140625  46281.644531   \n",
              "\n",
              "               Adj Close       Volume  \n",
              "Date                                   \n",
              "2022-03-28  47128.003906  36362175703  \n",
              "2022-03-29  47465.730469  31397059069  \n",
              "2022-03-30  47062.664062  29333883962  \n",
              "2022-03-31  45538.675781  33327427106  \n",
              "2022-04-01  46281.644531  38162644287  "
            ],
            "text/html": [
              "\n",
              "  <div id=\"df-3dab5476-4372-431b-8f84-3458af47b934\">\n",
              "    <div class=\"colab-df-container\">\n",
              "      <div>\n",
              "<style scoped>\n",
              "    .dataframe tbody tr th:only-of-type {\n",
              "        vertical-align: middle;\n",
              "    }\n",
              "\n",
              "    .dataframe tbody tr th {\n",
              "        vertical-align: top;\n",
              "    }\n",
              "\n",
              "    .dataframe thead th {\n",
              "        text-align: right;\n",
              "    }\n",
              "</style>\n",
              "<table border=\"1\" class=\"dataframe\">\n",
              "  <thead>\n",
              "    <tr style=\"text-align: right;\">\n",
              "      <th></th>\n",
              "      <th>Open</th>\n",
              "      <th>High</th>\n",
              "      <th>Low</th>\n",
              "      <th>Close</th>\n",
              "      <th>Adj Close</th>\n",
              "      <th>Volume</th>\n",
              "    </tr>\n",
              "    <tr>\n",
              "      <th>Date</th>\n",
              "      <th></th>\n",
              "      <th></th>\n",
              "      <th></th>\n",
              "      <th></th>\n",
              "      <th></th>\n",
              "      <th></th>\n",
              "    </tr>\n",
              "  </thead>\n",
              "  <tbody>\n",
              "    <tr>\n",
              "      <th>2022-03-28</th>\n",
              "      <td>46821.851562</td>\n",
              "      <td>48086.835938</td>\n",
              "      <td>46690.203125</td>\n",
              "      <td>47128.003906</td>\n",
              "      <td>47128.003906</td>\n",
              "      <td>36362175703</td>\n",
              "    </tr>\n",
              "    <tr>\n",
              "      <th>2022-03-29</th>\n",
              "      <td>47100.437500</td>\n",
              "      <td>48022.289062</td>\n",
              "      <td>47100.437500</td>\n",
              "      <td>47465.730469</td>\n",
              "      <td>47465.730469</td>\n",
              "      <td>31397059069</td>\n",
              "    </tr>\n",
              "    <tr>\n",
              "      <th>2022-03-30</th>\n",
              "      <td>47456.898438</td>\n",
              "      <td>47655.148438</td>\n",
              "      <td>46746.210938</td>\n",
              "      <td>47062.664062</td>\n",
              "      <td>47062.664062</td>\n",
              "      <td>29333883962</td>\n",
              "    </tr>\n",
              "    <tr>\n",
              "      <th>2022-03-31</th>\n",
              "      <td>47062.148438</td>\n",
              "      <td>47512.027344</td>\n",
              "      <td>45390.539062</td>\n",
              "      <td>45538.675781</td>\n",
              "      <td>45538.675781</td>\n",
              "      <td>33327427106</td>\n",
              "    </tr>\n",
              "    <tr>\n",
              "      <th>2022-04-01</th>\n",
              "      <td>45554.164062</td>\n",
              "      <td>46616.242188</td>\n",
              "      <td>44403.140625</td>\n",
              "      <td>46281.644531</td>\n",
              "      <td>46281.644531</td>\n",
              "      <td>38162644287</td>\n",
              "    </tr>\n",
              "  </tbody>\n",
              "</table>\n",
              "</div>\n",
              "      <button class=\"colab-df-convert\" onclick=\"convertToInteractive('df-3dab5476-4372-431b-8f84-3458af47b934')\"\n",
              "              title=\"Convert this dataframe to an interactive table.\"\n",
              "              style=\"display:none;\">\n",
              "        \n",
              "  <svg xmlns=\"http://www.w3.org/2000/svg\" height=\"24px\"viewBox=\"0 0 24 24\"\n",
              "       width=\"24px\">\n",
              "    <path d=\"M0 0h24v24H0V0z\" fill=\"none\"/>\n",
              "    <path d=\"M18.56 5.44l.94 2.06.94-2.06 2.06-.94-2.06-.94-.94-2.06-.94 2.06-2.06.94zm-11 1L8.5 8.5l.94-2.06 2.06-.94-2.06-.94L8.5 2.5l-.94 2.06-2.06.94zm10 10l.94 2.06.94-2.06 2.06-.94-2.06-.94-.94-2.06-.94 2.06-2.06.94z\"/><path d=\"M17.41 7.96l-1.37-1.37c-.4-.4-.92-.59-1.43-.59-.52 0-1.04.2-1.43.59L10.3 9.45l-7.72 7.72c-.78.78-.78 2.05 0 2.83L4 21.41c.39.39.9.59 1.41.59.51 0 1.02-.2 1.41-.59l7.78-7.78 2.81-2.81c.8-.78.8-2.07 0-2.86zM5.41 20L4 18.59l7.72-7.72 1.47 1.35L5.41 20z\"/>\n",
              "  </svg>\n",
              "      </button>\n",
              "      \n",
              "  <style>\n",
              "    .colab-df-container {\n",
              "      display:flex;\n",
              "      flex-wrap:wrap;\n",
              "      gap: 12px;\n",
              "    }\n",
              "\n",
              "    .colab-df-convert {\n",
              "      background-color: #E8F0FE;\n",
              "      border: none;\n",
              "      border-radius: 50%;\n",
              "      cursor: pointer;\n",
              "      display: none;\n",
              "      fill: #1967D2;\n",
              "      height: 32px;\n",
              "      padding: 0 0 0 0;\n",
              "      width: 32px;\n",
              "    }\n",
              "\n",
              "    .colab-df-convert:hover {\n",
              "      background-color: #E2EBFA;\n",
              "      box-shadow: 0px 1px 2px rgba(60, 64, 67, 0.3), 0px 1px 3px 1px rgba(60, 64, 67, 0.15);\n",
              "      fill: #174EA6;\n",
              "    }\n",
              "\n",
              "    [theme=dark] .colab-df-convert {\n",
              "      background-color: #3B4455;\n",
              "      fill: #D2E3FC;\n",
              "    }\n",
              "\n",
              "    [theme=dark] .colab-df-convert:hover {\n",
              "      background-color: #434B5C;\n",
              "      box-shadow: 0px 1px 3px 1px rgba(0, 0, 0, 0.15);\n",
              "      filter: drop-shadow(0px 1px 2px rgba(0, 0, 0, 0.3));\n",
              "      fill: #FFFFFF;\n",
              "    }\n",
              "  </style>\n",
              "\n",
              "      <script>\n",
              "        const buttonEl =\n",
              "          document.querySelector('#df-3dab5476-4372-431b-8f84-3458af47b934 button.colab-df-convert');\n",
              "        buttonEl.style.display =\n",
              "          google.colab.kernel.accessAllowed ? 'block' : 'none';\n",
              "\n",
              "        async function convertToInteractive(key) {\n",
              "          const element = document.querySelector('#df-3dab5476-4372-431b-8f84-3458af47b934');\n",
              "          const dataTable =\n",
              "            await google.colab.kernel.invokeFunction('convertToInteractive',\n",
              "                                                     [key], {});\n",
              "          if (!dataTable) return;\n",
              "\n",
              "          const docLinkHtml = 'Like what you see? Visit the ' +\n",
              "            '<a target=\"_blank\" href=https://colab.research.google.com/notebooks/data_table.ipynb>data table notebook</a>'\n",
              "            + ' to learn more about interactive tables.';\n",
              "          element.innerHTML = '';\n",
              "          dataTable['output_type'] = 'display_data';\n",
              "          await google.colab.output.renderOutput(dataTable, element);\n",
              "          const docLink = document.createElement('div');\n",
              "          docLink.innerHTML = docLinkHtml;\n",
              "          element.appendChild(docLink);\n",
              "        }\n",
              "      </script>\n",
              "    </div>\n",
              "  </div>\n",
              "  "
            ]
          },
          "metadata": {},
          "execution_count": 27
        }
      ]
    },
    {
      "cell_type": "markdown",
      "source": [
        "Plotting the **'Adjusted Close'** vs **'Years'**"
      ],
      "metadata": {
        "id": "ySIhR8-dYAli"
      }
    },
    {
      "cell_type": "code",
      "source": [
        "plt.plot(data.index, data['Adj Close'])\n",
        "plt.show()"
      ],
      "metadata": {
        "colab": {
          "base_uri": "https://localhost:8080/",
          "height": 267
        },
        "id": "17Jb-rPOAjUZ",
        "outputId": "acfa9e83-70c2-486e-c5bd-3d95da6a10fc"
      },
      "execution_count": null,
      "outputs": [
        {
          "output_type": "display_data",
          "data": {
            "text/plain": [
              "<Figure size 432x288 with 1 Axes>"
            ],
            "image/png": "[encoded data removed]"
          },
          "metadata": {
            "needs_background": "light"
          }
        }
      ]
    },
    {
      "cell_type": "markdown",
      "source": [
        "Splitting the Dataset into Training and Testing"
      ],
      "metadata": {
        "id": "jcpN6FPjYcf7"
      }
    },
    {
      "cell_type": "code",
      "source": [
        "to_row = int(len(data) * 0.85)\n",
        "print(to_row)\n",
        "\n",
        "training_data = list(data[0:to_row]['Adj Close'])\n",
        "testing_data = list(data[to_row:]['Adj Close'])\n",
        "print(training_data)\n",
        "print(testing_data)"
      ],
      "metadata": {
        "colab": {
          "base_uri": "https://localhost:8080/"
        },
        "id": "Zi8NGRSsA7gy",
        "outputId": "d0e73e43-ac12-4dce-8ae2-0ba3e18cf56e"
      },
      "execution_count": null,
      "outputs": [
        {
          "output_type": "stream",
          "name": "stdout",
          "text": [
            "2250\n",
            "[314.2489929199219, 315.0320129394531, 281.0820007324219, 264.19500732421875, 274.4739990234375, 286.1889953613281, 294.3370056152344, 283.3489990234375, 290.4079895019531, 274.7959899902344, 265.6600036621094, 267.7959899902344, 225.86099243164062, 178.10299682617188, 209.843994140625, 208.0970001220703, 199.25999450683594, 210.33900451660156, 214.86099243164062, 211.31500244140625, 226.89700317382812, 233.406005859375, 232.87899780273438, 247.8470001220703, 253.71800231933594, 273.4729919433594, 263.4750061035156, 233.9149932861328, 233.51300048828125, 226.4250030517578, 217.46400451660156, 226.9720001220703, 238.22900390625, 227.26800537109375, 226.85299682617188, 217.11099243164062, 222.26600646972656, 227.75399780273438, 223.41200256347656, 220.11000061035156, 219.83900451660156, 219.18499755859375, 221.76400756835938, 235.427001953125, 257.3210144042969, 234.8249969482422, 233.84300231933594, 243.61000061035156, 236.3260040283203, 240.2830047607422, 243.7790069580078, 244.53399658203125, 235.9770050048828, 238.89199829101562, 238.73500061035156, 237.47000122070312, 236.42599487304688, 253.8280029296875, 254.26300048828125, 260.2019958496094, 275.6700134277344, 281.7019958496094, 273.0920104980469, 276.1780090332031, 272.7229919433594, 276.260986328125, 274.35400390625, 289.60699462890625, 291.760009765625, 296.3789978027344, 294.35400390625, 285.3370056152344, 281.885009765625, 286.39300537109375, 290.5929870605469, 285.5050048828125, 256.29901123046875, 260.9280090332031, 261.7489929199219, 260.0249938964844, 267.9599914550781, 266.739990234375, 245.59500122070312, 246.19700622558594, 248.53199768066406, 247.0290069580078, 252.79800415039062, 242.71299743652344, 247.5260009765625, 244.2239990234375, 247.27200317382812, 253.0050048828125, 254.32200622558594, 253.69700622558594, 260.5979919433594, 255.49200439453125, 253.17999267578125, 245.02200317382812, 243.67599487304688, 236.07200622558594, 236.552001953125, 236.1529998779297, 224.58700561523438, 219.15899658203125, 223.83299255371094, 228.572998046875, 222.8820037841797, 223.3560028076172, 222.60000610351562, 224.62600708007812, 235.2689971923828, 234.17599487304688, 236.46200561523438, 231.26800537109375, 226.38999938964844, 219.42999267578125, 229.28599548339844, 225.85499572753906, 225.80799865722656, 236.14500427246094, 232.07899475097656, 234.92999267578125, 240.35800170898438, 239.01800537109375, 236.12100219726562, 229.78199768066406, 237.33399963378906, 243.86300659179688, 241.83200073242188, 240.29600524902344, 242.1580047607422, 241.11199951171875, 236.3769989013672, 236.9290008544922, 237.60499572753906, 236.1529998779297, 236.802001953125, 233.1280059814453, 231.94700622558594, 234.01800537109375, 235.343994140625, 240.34800720214844, 238.8719940185547, 240.9530029296875, 237.11000061035156, 237.11599731445312, 237.2830047607422, 237.4080047607422, 237.0959930419922, 233.34500122070312, 230.19000244140625, 222.92599487304688, 225.80299377441406, 225.87399291992188, 224.32400512695312, 224.95199584960938, 225.61900329589844, 222.88099670410156, 228.48899841308594, 229.04800415039062, 228.80299377441406, 229.7050018310547, 229.98199462890625, 232.40199279785156, 233.54299926757812, 236.822998046875, 250.89500427246094, 249.28399658203125, 249.0070037841797, 244.6060028076172, 245.21200561523438, 243.94400024414062, 246.99000549316406, 244.29600524902344, 240.51499938964844, 242.7989959716797, 243.593994140625, 250.99000549316406, 249.01100158691406, 257.0639953613281, 263.0719909667969, 258.6210021972656, 255.41200256347656, 256.33599853515625, 260.885986328125, 271.9129943847656, 269.0299987792969, 266.2070007324219, 270.7850036621094, 269.2279968261719, 284.8940124511719, 293.114990234375, 310.86700439453125, 292.0539855957031, 287.4639892578125, 285.8290100097656, 278.0889892578125, 279.47198486328125, 274.9010009765625, 273.614013671875, 278.9809875488281, 275.8330078125, 277.22198486328125, 276.04901123046875, 288.27801513671875, 288.6969909667969, 292.6860046386719, 293.6239929199219, 294.427001953125, 289.5899963378906, 287.72198486328125, 284.6499938964844, 281.60101318359375, 282.614013671875, 281.22698974609375, 285.2179870605469, 281.8819885253906, 278.5769958496094, 279.5849914550781, 260.99700927734375, 265.0830078125, 264.4700012207031, 270.385986328125, 266.3760070800781, 264.0799865722656, 265.67999267578125, 261.5509948730469, 258.5069885253906, 257.97601318359375, 211.07899475097656, 226.6840057373047, 235.35000610351562, 232.56900024414062, 230.38999938964844, 228.16900634765625, 210.4949951171875, 221.60899353027344, 225.83099365234375, 224.7689971923828, 231.39599609375, 229.77999877929688, 228.76100158691406, 230.05599975585938, 228.12100219726562, 229.28399658203125, 227.18299865722656, 230.29800415039062, 235.0189971923828, 239.83999633789062, 239.8470001220703, 243.60699462890625, 238.16799926757812, 238.4770050048828, 240.10699462890625, 235.22900390625, 230.51199340820312, 230.6439971923828, 230.3040008544922, 229.09100341796875, 229.80999755859375, 232.97500610351562, 231.4929962158203, 231.21200561523438, 227.0850067138672, 230.6179962158203, 230.2830047607422, 234.5290069580078, 235.1439971923828, 234.33999633789062, 232.7570037841797, 239.14199829101562, 236.68699645996094, 236.05999755859375, 237.5489959716797, 237.29299926757812, 238.72999572753906, 238.25900268554688, 240.38299560546875, 246.06300354003906, 242.968994140625, 242.3040008544922, 243.93099975585938, 244.9409942626953, 247.0500030517578, 245.30799865722656, 249.50799560546875, 251.98899841308594, 254.32000732421875, 262.8689880371094, 270.6400146484375, 261.64300537109375, 263.43701171875, 269.4630126953125, 266.2720031738281, 274.02301025390625, 276.4960021972656, 281.65399169921875, 283.67999267578125, 285.29998779296875, 293.7879943847656, 304.6180114746094, 313.8550109863281, 328.0150146484375, 314.1659851074219, 325.4309997558594, 361.1889953613281, 403.4169921875, 411.56298828125, 386.35400390625, 374.4700012207031, 386.48199462890625, 373.3680114746094, 380.2569885253906, 336.8190002441406, 311.0840148925781, 338.1520080566406, 336.75299072265625, 332.906005859375, 320.1659851074219, 330.7510070800781, 335.093994140625, 334.5899963378906, 326.14898681640625, 322.0220031738281, 326.927001953125, 324.5360107421875, 323.0459899902344, 320.0459899902344, 328.20599365234375, 352.6839904785156, 358.0419921875, 357.3810119628906, 371.29400634765625, 377.3210144042969, 362.4880065917969, 359.18701171875, 361.0459899902344, 363.1830139160156, 388.9490051269531, 388.7829895019531, 395.5360107421875, 415.56298828125, 417.56298828125, 415.47900390625, 451.93798828125, 434.99700927734375, 433.7550048828125, 444.1820068359375, 465.3210144042969, 454.9339904785156, 456.0780029296875, 463.6159973144531, 462.3219909667969, 442.68499755859375, 438.6390075683594, 436.5719909667969, 442.4010009765625, 454.9849853515625, 455.65301513671875, 417.27398681640625, 422.822998046875, 422.27899169921875, 432.9830017089844, 426.6199951171875, 430.5669860839844, 434.3340148925781, 433.43798828125, 430.010986328125, 433.09100341796875, 431.9599914550781, 429.1050109863281, 458.0480041503906, 453.2300109863281, 447.6109924316406, 447.9909973144531, 448.4280090332031, 435.69000244140625, 432.3710021972656, 430.3059997558594, 364.33099365234375, 387.5360107421875, 382.29901123046875, 387.1679992675781, 380.14898681640625, 420.2300109863281, 410.2619934082031, 382.49200439453125, 387.4909973144531, 402.97100830078125, 391.72601318359375, 392.15301513671875, 394.97198486328125, 380.28900146484375, 379.4739990234375, 378.2550048828125, 368.7669982910156, 373.0559997558594, 374.447998046875, 369.9490051269531, 389.593994140625, 386.54901123046875, 376.5220031738281, 376.6199951171875, 373.4469909667969, 376.02899169921875, 381.64898681640625, 379.65399169921875, 384.26300048828125, 391.8599853515625, 407.2300109863281, 400.18499755859375, 407.4880065917969, 416.3219909667969, 422.37298583984375, 420.7850036621094, 437.16400146484375, 438.7980041503906, 437.74798583984375, 420.7359924316406, 424.9549865722656, 424.54400634765625, 432.1520080566406, 432.5190124511719, 433.5039978027344, 437.6969909667969, 435.12298583984375, 423.989013671875, 421.6510009765625, 410.9389953613281, 400.57000732421875, 407.7070007324219, 414.3210144042969, 413.97198486328125, 414.8599853515625, 417.1310119628906, 421.69000244140625, 411.6239929199219, 414.06500244140625, 416.43798828125, 416.8299865722656, 417.010986328125, 420.6210021972656, 409.5480041503906, 410.4440002441406, 413.7550048828125, 413.3070068359375, 418.0889892578125, 418.0409851074219, 416.3940124511719, 417.177001953125, 417.94500732421875, 426.7650146484375, 424.2309875488281, 416.5159912109375, 414.8160095214844, 416.72900390625, 417.9599914550781, 420.87298583984375, 420.90399169921875, 421.4440002441406, 424.0299987792969, 423.4129943847656, 422.7449951171875, 420.3489990234375, 419.4110107421875, 421.5639953613281, 422.4830017089844, 425.19000244140625, 423.7340087890625, 424.2820129394531, 429.7130126953125, 430.5719909667969, 427.39898681640625, 428.59100341796875, 435.5090026855469, 441.3890075683594, 449.42498779296875, 445.73699951171875, 450.2820129394531, 458.55499267578125, 461.4259948730469, 466.0889892578125, 444.68701171875, 449.010986328125, 455.09698486328125, 448.3179931640625, 451.875, 444.66900634765625, 450.3039855957031, 446.72198486328125, 447.97601318359375, 459.6029968261719, 458.5360107421875, 458.5480041503906, 460.4830017089844, 450.8949890136719, 452.7279968261719, 454.7659912109375, 455.6700134277344, 455.6709899902344, 457.5679931640625, 454.1629943847656, 453.7829895019531, 454.6189880371094, 438.7149963378906, 442.6759948730469, 443.18798828125, 439.322998046875, 444.1549987792969, 445.9809875488281, 449.5989990234375, 453.3840026855469, 473.4639892578125, 530.0399780273438, 526.2329711914062, 533.864013671875, 531.385986328125, 536.9199829101562, 537.9719848632812, 569.1939697265625, 572.7269897460938, 574.9769897460938, 585.5369873046875, 576.5969848632812, 581.64501953125, 574.6300048828125, 577.469970703125, 606.7269897460938, 672.7839965820312, 704.3759765625, 685.5590209960938, 694.468994140625, 766.3079833984375, 748.9089965820312, 756.2269897460938, 763.781005859375, 737.2260131835938, 666.6519775390625, 596.1160278320312, 623.9769897460938, 665.2990112304688, 665.1229858398438, 629.3670043945312, 655.2750244140625, 647.0009765625, 639.8900146484375, 673.3369750976562, 676.2960205078125, 703.7020263671875, 658.6640014648438, 683.6619873046875, 670.6270141601562, 677.3309936523438, 640.56201171875, 666.5230102539062, 650.9600219726562, 649.3599853515625, 647.6589965820312, 664.551025390625, 654.468017578125, 658.0780029296875, 663.2550048828125, 660.7670288085938, 679.458984375, 673.1060180664062, 672.864013671875, 665.6849975585938, 665.0120239257812, 650.6190185546875, 655.5560302734375, 661.2849731445312, 654.0969848632812, 651.7839965820312, 654.3519897460938, 655.0349731445312, 656.9920043945312, 655.0469970703125, 624.6810302734375, 606.27197265625, 547.4650268554688, 566.35498046875, 578.2890014648438, 575.0430297851562, 587.7780151367188, 592.6900024414062, 591.0540161132812, 587.801025390625, 592.10302734375, 589.1199951171875, 587.5590209960938, 585.5880126953125, 570.4730224609375, 567.239990234375, 577.4390258789062, 573.2160034179688, 574.3179931640625, 575.6300048828125, 581.697021484375, 581.3079833984375, 586.7529907226562, 583.4149780273438, 580.1820068359375, 577.760986328125, 579.6510009765625, 569.947021484375, 573.9119873046875, 574.1069946289062, 577.5029907226562, 575.4719848632812, 572.302978515625, 575.5369873046875, 598.2119750976562, 608.6339721679688, 606.5900268554688, 610.4359741210938, 614.5440063476562, 626.3159790039062, 622.8610229492188, 623.5089721679688, 606.718994140625, 608.2429809570312, 609.2410278320312, 610.6840209960938, 607.155029296875, 606.9730224609375, 605.9840087890625, 609.8740234375, 609.2269897460938, 608.31201171875, 597.1489868164062, 596.2979736328125, 602.8419799804688, 602.625, 600.8259887695312, 608.0430297851562, 606.166015625, 604.72802734375, 605.6929931640625, 609.7349853515625, 613.9829711914062, 610.8920288085938, 612.1329956054688, 610.2039794921875, 612.510986328125, 613.02099609375, 617.1209716796875, 619.1079711914062, 616.7520141601562, 618.9940185546875, 641.072021484375, 636.1920166015625, 636.7860107421875, 640.3779907226562, 638.64599609375, 641.6309814453125, 639.1929931640625, 637.9600219726562, 630.52001953125, 630.8569946289062, 632.8280029296875, 657.2940063476562, 657.0709838867188, 653.760986328125, 657.5880126953125, 678.3040161132812, 688.31298828125, 689.6510009765625, 714.47900390625, 701.864013671875, 700.9719848632812, 729.7930297851562, 740.8289794921875, 688.7000122070312, 703.2349853515625, 703.4180297851562, 711.52197265625, 703.1309814453125, 709.8480224609375, 723.2730102539062, 715.5339965820312, 716.4110107421875, 705.0540161132812, 702.031005859375, 705.02099609375, 711.6190185546875, 744.197998046875, 740.9769897460938, 751.5850219726562, 751.6160278320312, 731.0260009765625, 739.2479858398438, 751.3469848632812, 744.593994140625, 740.2890014648438, 741.6489868164062, 735.3820190429688, 732.0349731445312, 735.81298828125, 735.60400390625, 745.6909790039062, 756.7739868164062, 777.9439697265625, 771.155029296875, 773.8720092773438, 758.7000122070312, 764.2239990234375, 768.1320190429688, 770.8099975585938, 772.7940063476562, 774.6500244140625, 769.7310180664062, 780.0869750976562, 780.5560302734375, 781.4810180664062, 778.0880126953125, 784.906982421875, 790.8289794921875, 790.530029296875, 792.7139892578125, 800.8759765625, 834.281005859375, 864.5399780273438, 921.9840087890625, 898.822021484375, 896.1829833984375, 907.6099853515625, 933.197998046875, 975.9210205078125, 973.4970092773438, 961.2379760742188, 963.7429809570312, 998.3250122070312, 1021.75, 1043.8399658203125, 1154.72998046875, 1013.3800048828125, 902.2009887695312, 908.5850219726562, 911.198974609375, 902.8280029296875, 907.6790161132812, 777.7570190429688, 804.833984375, 823.9840087890625, 818.4119873046875, 821.7979736328125, 831.5339965820312, 907.93798828125, 886.6179809570312, 899.072998046875, 895.0260009765625, 921.7890014648438, 924.6729736328125, 921.0120239257812, 892.68701171875, 901.5419921875, 917.5859985351562, 919.75, 921.5900268554688, 919.4959716796875, 920.3820190429688, 970.4030151367188, 989.0230102539062, 1011.7999877929688, 1029.9100341796875, 1042.9000244140625, 1027.3399658203125, 1038.1500244140625, 1061.3499755859375, 1063.0699462890625, 994.3829956054688, 988.6740112304688, 1004.4500122070312, 999.1810302734375, 990.6420288085938, 1004.5499877929688, 1007.47998046875, 1027.43994140625, 1046.2099609375, 1054.4200439453125, 1047.8699951171875, 1079.97998046875, 1115.300048828125, 1117.43994140625, 1166.719970703125, 1173.6800537109375, 1143.8399658203125, 1165.199951171875, 1179.969970703125, 1179.969970703125, 1222.5, 1251.010009765625, 1274.989990234375, 1255.1500244140625, 1267.1199951171875, 1272.8299560546875, 1223.5400390625, 1150.0, 1188.489990234375, 1116.719970703125, 1175.8299560546875, 1221.3800048828125, 1231.9200439453125, 1240.0, 1249.6099853515625, 1187.81005859375, 1100.22998046875, 973.8179931640625, 1036.739990234375, 1054.22998046875, 1120.5400390625, 1049.1400146484375, 1038.5899658203125, 937.52001953125, 972.7789916992188, 966.7249755859375, 1045.77001953125, 1047.1500244140625, 1039.969970703125, 1026.4300537109375, 1071.7900390625, 1080.5, 1102.1700439453125, 1143.81005859375, 1133.25, 1124.780029296875, 1182.6800537109375, 1176.9000244140625, 1175.949951171875, 1187.8699951171875, 1187.1300048828125, 1205.010009765625, 1200.3699951171875, 1169.280029296875, 1167.5400390625, 1172.52001953125, 1182.93994140625, 1193.9100341796875, 1211.6700439453125, 1210.2900390625, 1229.0799560546875, 1222.050048828125, 1231.7099609375, 1207.2099609375, 1250.1500244140625, 1265.489990234375, 1281.0799560546875, 1317.72998046875, 1316.47998046875, 1321.7900390625, 1347.8900146484375, 1421.5999755859375, 1452.8199462890625, 1490.0899658203125, 1537.6700439453125, 1555.449951171875, 1578.800048828125, 1596.7099609375, 1723.3499755859375, 1755.3599853515625, 1787.1300048828125, 1848.5699462890625, 1724.239990234375, 1804.9100341796875, 1808.9100341796875, 1738.4300537109375, 1734.449951171875, 1839.0899658203125, 1888.6500244140625, 1987.7099609375, 2084.72998046875, 2041.199951171875, 2173.39990234375, 2320.419921875, 2443.639892578125, 2304.97998046875, 2202.419921875, 2038.8699951171875, 2155.800048828125, 2255.610107421875, 2175.469970703125, 2286.409912109375, 2407.8798828125, 2488.550048828125, 2515.35009765625, 2511.81005859375, 2686.81005859375, 2863.199951171875, 2732.159912109375, 2805.6201171875, 2823.81005859375, 2947.7099609375, 2958.110107421875, 2659.6298828125, 2717.02001953125, 2506.3701171875, 2464.580078125, 2518.56005859375, 2655.8798828125, 2548.2900390625, 2589.60009765625, 2721.7900390625, 2689.10009765625, 2705.409912109375, 2744.909912109375, 2608.719970703125, 2589.409912109375, 2478.449951171875, 2552.449951171875, 2574.7900390625, 2539.320068359375, 2480.840087890625, 2434.550048828125, 2506.469970703125, 2564.06005859375, 2601.639892578125, 2601.989990234375, 2608.56005859375, 2518.659912109375, 2571.340087890625, 2518.43994140625, 2372.56005859375, 2337.7900390625, 2398.840087890625, 2357.89990234375, 2233.340087890625, 1998.8599853515625, 1929.8199462890625, 2228.409912109375, 2318.8798828125, 2273.429931640625, 2817.60009765625, 2667.760009765625, 2810.1201171875, 2730.39990234375, 2754.860107421875, 2576.47998046875, 2529.449951171875, 2671.780029296875, 2809.010009765625, 2726.449951171875, 2757.179931640625, 2875.340087890625, 2718.260009765625, 2710.669921875, 2804.72998046875, 2895.889892578125, 3252.909912109375, 3213.93994140625, 3378.93994140625, 3419.93994140625, 3342.469970703125, 3381.280029296875, 3650.6201171875, 3884.7099609375, 4073.260009765625, 4325.1298828125, 4181.93017578125, 4376.6298828125, 4331.68994140625, 4160.6201171875, 4193.7001953125, 4087.659912109375, 4001.739990234375, 4100.52001953125, 4151.52001953125, 4334.68017578125, 4371.60009765625, 4352.39990234375, 4382.8798828125, 4382.66015625, 4579.02001953125, 4565.2998046875, 4703.39013671875, 4892.009765625, 4578.77001953125, 4582.9599609375, 4236.31005859375, 4376.52978515625, 4597.1201171875, 4599.8798828125, 4228.75, 4226.06005859375, 4122.93994140625, 4161.27001953125, 4130.81005859375, 3882.590087890625, 3154.949951171875, 3637.52001953125, 3625.0400390625, 3582.8798828125, 4065.199951171875, 3924.969970703125, 3905.949951171875, 3631.0400390625, 3630.699951171875, 3792.39990234375, 3682.840087890625, 3926.070068359375, 3892.35009765625, 4200.669921875, 4174.72998046875, 4163.06982421875, 4338.7099609375, 4403.740234375, 4409.31982421875, 4317.47998046875, 4229.35986328125, 4328.41015625, 4370.81005859375, 4426.89013671875, 4610.47998046875, 4772.02001953125, 4781.990234375, 4826.47998046875, 5446.91015625, 5647.2099609375, 5831.7900390625, 5678.18994140625, 5725.58984375, 5605.509765625, 5590.68994140625, 5708.52001953125, 6011.4501953125, 6031.60009765625, 6008.419921875, 5930.31982421875, 5526.64013671875, 5750.7998046875, 5904.830078125, 5780.89990234375, 5753.08984375, 6153.85009765625, 6130.52978515625, 6468.39990234375, 6767.31005859375, 7078.5, 7207.759765625, 7379.9501953125, 7407.41015625, 7022.759765625, 7144.3798828125, 7459.68994140625, 7143.580078125, 6618.14013671875, 6357.60009765625, 5950.06982421875, 6559.490234375, 6635.75, 7315.5400390625, 7871.68994140625, 7708.990234375, 7790.14990234375, 8036.490234375, 8200.6396484375, 8071.259765625, 8253.5498046875, 8038.77001953125, 8253.6904296875, 8790.919921875, 9330.5498046875, 9818.349609375, 10058.7998046875, 9888.6103515625, 10233.599609375, 10975.599609375, 11074.599609375, 11323.2001953125, 11657.2001953125, 11916.7001953125, 14291.5, 17899.69921875, 16569.400390625, 15178.2001953125, 15455.400390625, 16936.80078125, 17415.400390625, 16408.19921875, 16564.0, 17706.900390625, 19497.400390625, 19140.80078125, 19114.19921875, 17776.69921875, 16624.599609375, 15802.900390625, 13831.7998046875, 14699.2001953125, 13925.7998046875, 14026.599609375, 16099.7998046875, 15838.5, 14606.5, 14656.2001953125, 12952.2001953125, 14156.400390625, 13657.2001953125, 14982.099609375, 15201.0, 15599.2001953125, 17429.5, 17527.0, 16477.599609375, 15170.099609375, 14595.400390625, 14973.2998046875, 13405.7998046875, 13980.599609375, 14360.2001953125, 13772.0, 13819.7998046875, 11490.5, 11188.599609375, 11474.900390625, 11607.400390625, 12899.2001953125, 11600.099609375, 10931.400390625, 10868.400390625, 11359.400390625, 11259.400390625, 11171.400390625, 11440.7001953125, 11786.2998046875, 11296.400390625, 10106.2998046875, 10221.099609375, 9170.5400390625, 8830.75, 9174.91015625, 8277.009765625, 6955.27001953125, 7754.0, 7621.2998046875, 8265.58984375, 8736.98046875, 8621.900390625, 8129.97021484375, 8926.5703125, 8598.3095703125, 9494.6298828125, 10166.400390625, 10233.900390625, 11112.7001953125, 10551.7998046875, 11225.2998046875, 11403.7001953125, 10690.400390625, 10005.0, 10301.099609375, 9813.0703125, 9664.73046875, 10366.7001953125, 10725.599609375, 10397.900390625, 10951.0, 11086.400390625, 11489.7001953125, 11512.599609375, 11573.2998046875, 10779.900390625, 9965.5703125, 9395.009765625, 9337.5498046875, 8866.0, 9578.6298828125, 9205.1201171875, 9194.849609375, 8269.8095703125, 8300.8603515625, 8338.349609375, 7916.8798828125, 8223.6796875, 8630.650390625, 8913.4697265625, 8929.2802734375, 8728.4697265625, 8879.6201171875, 8668.1201171875, 8495.7802734375, 8209.400390625, 7833.0400390625, 7954.47998046875, 7165.7001953125, 6890.52001953125, 6973.52978515625, 6844.22998046875, 7083.7998046875, 7456.10986328125, 6853.83984375, 6811.47021484375, 6636.31982421875, 6911.08984375, 7023.52001953125, 6770.72998046875, 6834.759765625, 6968.31982421875, 7889.25, 7895.9599609375, 7986.240234375, 8329.1103515625, 8058.669921875, 7902.08984375, 8163.419921875, 8294.3095703125, 8845.830078125, 8895.580078125, 8802.4599609375, 8930.8798828125, 9697.5, 8845.740234375, 9281.509765625, 8987.0498046875, 9348.48046875, 9419.080078125, 9240.5498046875, 9119.009765625, 9235.919921875, 9743.8603515625, 9700.759765625, 9858.150390625, 9654.7998046875, 9373.009765625, 9234.8203125, 9325.1796875, 9043.9404296875, 8441.490234375, 8504.8896484375, 8723.9404296875, 8716.7900390625, 8510.3798828125, 8368.830078125, 8094.31982421875, 8250.9697265625, 8247.1796875, 8513.25, 8418.990234375, 8041.77978515625, 7557.81982421875, 7587.33984375, 7480.14013671875, 7355.8798828125, 7368.22021484375, 7135.990234375, 7472.58984375, 7406.52001953125, 7494.169921875, 7541.4501953125, 7643.4501953125, 7720.25, 7514.47021484375, 7633.759765625, 7653.97998046875, 7678.240234375, 7624.919921875, 7531.97998046875, 6786.02001953125, 6906.919921875, 6582.35986328125, 6349.89990234375, 6675.35009765625, 6456.580078125, 6550.16015625, 6499.27001953125, 6734.81982421875, 6769.93994140625, 6776.5498046875, 6729.740234375, 6083.68994140625, 6162.47998046875, 6173.22998046875, 6249.18017578125, 6093.669921875, 6157.1298828125, 5903.43994140625, 6218.2998046875, 6404.0, 6385.81982421875, 6614.18017578125, 6529.58984375, 6597.5498046875, 6639.14013671875, 6673.5, 6856.93017578125, 6773.8798828125, 6741.75, 6329.9501953125, 6394.7099609375, 6228.81005859375, 6238.0498046875, 6276.1201171875, 6359.64013671875, 6741.75, 7321.0400390625, 7370.77978515625, 7466.85986328125, 7354.1298828125, 7419.2900390625, 7418.490234375, 7711.10986328125, 8424.26953125, 8181.39013671875, 7951.580078125, 8165.009765625, 8192.150390625, 8218.4599609375, 8180.47998046875, 7780.43994140625, 7624.91015625, 7567.14990234375, 7434.39013671875, 7032.85009765625, 7068.47998046875, 6951.7998046875, 6753.1201171875, 6305.7998046875, 6568.22998046875, 6184.7099609375, 6295.72998046875, 6322.68994140625, 6297.56982421875, 6199.7099609375, 6308.52001953125, 6334.72998046875, 6580.6298828125, 6423.759765625, 6506.06982421875, 6308.52978515625, 6488.759765625, 6376.7099609375, 6534.8798828125, 6719.9599609375, 6763.18994140625, 6707.259765625, 6884.64013671875, 7096.27978515625, 7047.16015625, 6978.22998046875, 7037.580078125, 7193.25, 7272.72021484375, 7260.06005859375, 7361.66015625, 6792.830078125, 6529.169921875, 6467.06982421875, 6225.97998046875, 6300.85986328125, 6329.7001953125, 6321.2001953125, 6351.7998046875, 6517.31005859375, 6512.7099609375, 6543.2001953125, 6517.18017578125, 6281.2001953125, 6371.2998046875, 6398.5400390625, 6519.669921875, 6734.9501953125, 6721.97998046875, 6710.6298828125, 6595.41015625, 6446.47021484375, 6495.0, 6676.75, 6644.1298828125, 6601.9599609375, 6625.56005859375, 6589.6201171875, 6556.10009765625, 6502.58984375, 6576.68994140625, 6622.47998046875, 6588.31005859375, 6602.9501953125, 6652.22998046875, 6642.64013671875, 6585.52978515625, 6256.240234375, 6274.580078125, 6285.990234375, 6290.93017578125, 6596.5400390625, 6596.10986328125, 6544.43017578125, 6476.7099609375, 6465.41015625, 6489.18994140625, 6482.35009765625, 6487.16015625, 6475.740234375, 6495.83984375, 6476.2900390625, 6474.75, 6480.3798828125, 6486.39013671875, 6332.6298828125, 6334.27001953125, 6317.60986328125, 6377.77978515625, 6388.43994140625, 6361.259765625, 6376.1298828125, 6419.66015625, 6461.009765625, 6530.14013671875, 6453.72021484375, 6385.6201171875, 6409.22021484375, 6411.27001953125, 6371.27001953125, 6359.490234375, 5738.35009765625, 5648.02978515625, 5575.5498046875, 5554.330078125, 5623.5400390625, 4871.490234375, 4451.8701171875, 4602.169921875, 4365.93994140625, 4347.10986328125, 3880.760009765625, 4009.969970703125, 3779.1298828125, 3820.719970703125, 4257.419921875, 4278.8466796875, 4017.2685546875, 4214.671875, 4139.8779296875, 3894.130859375, 3956.893798828125, 3753.994873046875, 3521.101806640625, 3419.937255859375, 3476.11474609375, 3614.234375, 3502.656005859375, 3424.588134765625, 3486.9501953125, 3313.67724609375, 3242.48486328125, 3236.76171875, 3252.839111328125, 3545.86474609375, 3696.05908203125, 3745.95068359375, 4134.44140625, 3896.543701171875, 4014.1826171875, 3998.980224609375, 4078.59912109375, 3815.49072265625, 3857.297607421875, 3654.83349609375, 3923.918701171875, 3820.40869140625, 3865.95263671875, 3742.700439453125, 3843.52001953125, 3943.409423828125, 3836.7412109375, 3857.717529296875, 3845.194580078125, 4076.632568359375, 4025.248291015625, 4030.847900390625, 4035.29638671875, 3678.924560546875, 3687.365478515625, 3661.301025390625, 3552.953125, 3706.05224609375, 3630.67529296875, 3655.0068359375, 3678.56396484375, 3657.83935546875, 3728.568359375, 3601.013671875, 3576.032470703125, 3604.5771484375, 3585.123046875, 3600.865478515625, 3599.765869140625, 3602.46044921875, 3583.9658203125, 3470.450439453125, 3448.116943359375, 3486.181640625, 3457.792724609375, 3487.9453125, 3521.060791015625, 3464.013427734375, 3459.154052734375, 3466.357421875, 3413.767822265625, 3399.4716796875, 3666.7802734375, 3671.20361328125, 3690.188232421875, 3648.4306640625, 3653.528564453125, 3632.070556640625, 3616.880859375, 3620.810791015625, 3629.78759765625, 3673.836181640625, 3915.71435546875, 3947.094482421875, 3999.820556640625, 3954.1181640625, 4005.526611328125, 4142.52685546875, 3810.427490234375, 3882.6962890625, 3854.35791015625, 3851.04736328125, 3854.785400390625, 3859.583740234375, 3864.4150390625, 3847.17578125, 3761.55712890625, 3896.375, 3903.942626953125, 3911.484375, 3901.131591796875, 3963.313720703125, 3951.599853515625, 3905.227294921875, 3909.15625, 3906.71728515625, 3924.369140625, 3960.9111328125, 4048.725830078125, 4025.22900390625, 4032.50732421875, 4071.190185546875, 4087.476318359375, 4029.326904296875, 4023.96826171875, 4035.826416015625, 4022.168212890625, 3963.070556640625, 3985.080810546875, 4087.066162109375, 4069.107177734375, 4098.37451171875, 4106.66015625, 4105.404296875, 4158.18310546875, 4879.8779296875, 4973.02197265625, 4922.798828125, 5036.68115234375, 5059.8173828125, 5198.89697265625, 5289.77099609375, 5204.95849609375, 5324.5517578125, 5064.48779296875, 5089.5390625, 5096.58642578125, 5167.72216796875, 5067.1083984375, 5235.5595703125, 5251.93798828125, 5298.3857421875, 5303.8125, 5337.88623046875, 5314.53125, 5399.365234375, 5572.3623046875, 5464.86669921875, 5210.515625, 5279.34814453125, 5268.291015625, 5285.13916015625, 5247.3525390625, 5350.7265625, 5402.697265625, 5505.28369140625, 5768.28955078125, 5831.16748046875, 5795.70849609375, 5746.80712890625, 5829.50146484375, 5982.45751953125, 6174.52880859375, 6378.84912109375, 7204.771484375, 6972.37158203125, 7814.9150390625, 7994.416015625, 8205.16796875, 7884.9091796875, 7343.8955078125, 7271.2080078125, 8197.689453125, 7978.30908203125, 7963.32763671875, 7680.06640625, 7881.8466796875, 7987.37158203125, 8052.5439453125, 8673.2158203125, 8805.7783203125, 8719.9619140625, 8659.4873046875, 8319.47265625, 8574.501953125, 8564.0166015625, 8742.9580078125, 8208.9951171875, 7707.77099609375, 7824.2314453125, 7822.0234375, 8043.951171875, 7954.1279296875, 7688.0771484375, 8000.32958984375, 7927.71435546875, 8145.857421875, 8230.923828125, 8693.8330078125, 8838.375, 8994.48828125, 9320.3525390625, 9081.7626953125, 9273.521484375, 9527.16015625, 10144.556640625, 10701.69140625, 10855.37109375, 11011.1025390625, 11790.9169921875, 13016.2314453125, 11182.806640625, 12407.33203125, 11959.37109375, 10817.1552734375, 10583.134765625, 10801.677734375, 11961.26953125, 11215.4375, 10978.4599609375, 11208.55078125, 11450.8466796875, 12285.9580078125, 12573.8125, 12156.5126953125, 11358.662109375, 11815.986328125, 11392.37890625, 10256.05859375, 10895.08984375, 9477.6416015625, 9693.802734375, 10666.482421875, 10530.732421875, 10767.1396484375, 10599.10546875, 10343.1064453125, 9900.767578125, 9811.92578125, 9911.841796875, 9870.3037109375, 9477.677734375, 9552.8603515625, 9519.1455078125, 9607.423828125, 10085.6279296875, 10399.6689453125, 10518.1748046875, 10821.7265625, 10970.1845703125, 11805.6533203125, 11478.1689453125, 11941.96875, 11966.4072265625, 11862.9365234375, 11354.0244140625, 11523.5791015625, 11382.6162109375, 10895.830078125, 10051.7041015625, 10311.5458984375, 10374.3388671875, 10231.744140625, 10345.810546875, 10916.0537109375, 10763.232421875, 10138.0498046875, 10131.0556640625, 10407.96484375, 10159.9609375, 10138.517578125, 10370.8203125, 10185.5, 9754.4228515625, 9510.2001953125, 9598.173828125, 9630.6640625, 9757.970703125, 10346.7607421875, 10623.5400390625, 10594.4931640625, 10575.533203125, 10353.302734375, 10517.2548828125, 10441.2763671875, 10334.974609375, 10115.9755859375, 10178.3720703125, 10410.126953125, 10360.546875, 10358.048828125, 10347.712890625, 10276.7939453125, 10241.2724609375, 10198.248046875, 10266.4150390625, 10181.6416015625, 10019.716796875, 10070.392578125, 9729.32421875, 8620.56640625, 8486.9931640625, 8118.9677734375, 8251.845703125, 8245.9150390625, 8104.185546875, 8293.8681640625, 8343.2763671875, 8393.0419921875, 8259.9921875, 8205.939453125, 8151.50048828125, 7988.15576171875, 8245.623046875, 8228.783203125, 8595.740234375, 8586.4736328125, 8321.7568359375, 8336.5556640625, 8321.005859375, 8374.6865234375, 8205.369140625, 8047.52685546875, 8103.9111328125, 7973.20751953125, 7988.560546875, 8222.078125, 8243.720703125, 8078.203125, 7514.671875, 7493.48876953125, 8660.7001953125, 9244.97265625, 9551.71484375, 9256.1484375, 9427.6875, 9205.7265625, 9199.5849609375, 9261.1044921875, 9324.7177734375, 9235.3544921875, 9412.6123046875, 9342.52734375, 9360.8798828125, 9267.5615234375, 8804.880859375, 8813.58203125, 9055.5263671875, 8757.7880859375, 8815.662109375, 8808.2626953125, 8708.0947265625, 8491.9921875, 8550.7607421875, 8577.9755859375, 8309.2861328125, 8206.1455078125, 8027.26806640625, 7642.75, 7296.57763671875, 7397.796875, 7047.9169921875, 7146.1337890625, 7218.37109375, 7531.66357421875, 7463.10595703125, 7761.24365234375, 7569.6298828125, 7424.29248046875, 7321.98828125, 7320.1455078125, 7252.03466796875, 7448.3076171875, 7546.99658203125, 7556.23779296875, 7564.34521484375, 7400.8994140625, 7278.11962890625, 7217.42724609375, 7243.13427734375, 7269.6845703125, 7124.673828125, 7152.3017578125, 6932.48046875, 6640.51513671875, 7276.802734375, 7202.84423828125, 7218.81640625, 7191.15869140625, 7511.5888671875, 7355.62841796875, 7322.5322265625, 7275.15576171875, 7238.966796875, 7290.08837890625, 7317.990234375, 7422.65283203125, 7292.9951171875, 7193.59912109375, 7200.17431640625, 6985.47021484375, 7344.88427734375, 7410.65673828125, 7411.3173828125, 7769.21923828125, 8163.6923828125, 8079.86279296875, 7879.0712890625, 8166.55419921875, 8037.53759765625, 8192.494140625, 8144.1943359375, 8827.7646484375, 8807.0107421875, 8723.7861328125, 8929.0380859375, 8942.80859375, 8706.2451171875, 8657.642578125, 8745.89453125, 8680.8759765625, 8406.515625, 8445.4345703125, 8367.84765625, 8596.830078125, 8909.8193359375, 9358.58984375, 9316.6298828125, 9508.9931640625, 9350.529296875, 9392.875, 9344.365234375, 9293.521484375, 9180.962890625, 9613.423828125, 9729.8017578125, 9795.943359375, 9865.119140625, 10116.673828125, 9856.611328125, 10208.236328125, 10326.0546875, 10214.3798828125, 10312.1162109375, 9889.4248046875, 9934.43359375, 9690.142578125, 10141.99609375, 9633.38671875, 9608.4755859375, 9686.44140625, 9663.181640625, 9924.515625, 9650.1748046875, 9341.705078125, 8820.5224609375, 8784.494140625, 8672.455078125, 8599.5087890625, 8562.4541015625, 8869.669921875, 8787.7861328125, 8755.24609375, 9078.7626953125, 9122.5458984375, 8909.9541015625, 8108.1162109375, 7923.64453125, 7909.7294921875, 7911.43017578125, 4970.7880859375, 5563.70703125, 5200.3662109375, 5392.31494140625, 5014.47998046875, 5225.62939453125, 5238.4384765625, 6191.19287109375, 6198.7783203125, 6185.06640625, 5830.2548828125, 6416.31494140625, 6734.8037109375, 6681.06298828125, 6716.4404296875, 6469.79833984375, 6242.19384765625, 5922.04296875, 6429.841796875, 6438.64453125, 6606.7763671875, 6793.62451171875, 6733.38720703125, 6867.52734375, 6791.12939453125, 7271.78125, 7176.41455078125, 7334.0986328125, 7302.08935546875, 6865.4931640625, 6859.0830078125, 6971.091796875, 6845.03759765625, 6842.427734375, 6642.10986328125, 7116.80419921875, 7096.1845703125, 7257.6650390625, 7189.4248046875, 6881.95849609375, 6880.3232421875, 7117.20751953125, 7429.724609375, 7550.90087890625, 7569.93603515625, 7679.8671875, 7795.60107421875, 7807.05859375, 8801.0380859375, 8658.5537109375, 8864.7666015625, 8988.5966796875, 8897.46875, 8912.654296875, 9003.0703125, 9268.76171875, 9951.5185546875, 9842.666015625, 9593.896484375, 8756.4306640625, 8601.7958984375, 8804.4775390625, 9269.9873046875, 9733.7216796875, 9328.197265625, 9377.013671875, 9670.7392578125, 9726.5751953125, 9729.0380859375, 9522.9814453125, 9081.76171875, 9182.5771484375, 9209.287109375, 8790.3681640625, 8906.9345703125, 8835.052734375, 9181.017578125, 9525.7509765625, 9439.1240234375, 9700.4140625, 9461.05859375, 10167.2685546875, 9529.8037109375, 9656.7177734375, 9800.63671875, 9665.533203125, 9653.6796875, 9758.8525390625, 9771.4892578125, 9795.7001953125, 9870.0947265625, 9321.78125, 9480.84375, 9475.27734375, 9386.7880859375, 9450.7021484375, 9538.0244140625, 9480.2548828125, 9411.8408203125, 9288.0185546875, 9332.3408203125, 9303.6298828125, 9648.7177734375, 9629.658203125, 9313.6103515625, 9264.8134765625, 9162.91796875, 9045.390625, 9143.58203125, 9190.8544921875, 9137.9931640625, 9228.3251953125, 9123.41015625, 9087.3037109375, 9132.48828125, 9073.9423828125, 9375.474609375, 9252.27734375, 9428.3330078125, 9277.9677734375, 9278.8076171875, 9240.3466796875, 9276.5, 9243.6142578125, 9243.2138671875, 9192.8369140625, 9132.2275390625, 9151.392578125, 9159.0400390625, 9185.8173828125, 9164.2314453125, 9374.8876953125, 9525.36328125, 9581.072265625, 9536.892578125, 9677.11328125, 9905.1669921875, 10990.873046875, 10912.8232421875, 11100.4677734375, 11111.2138671875, 11323.466796875, 11759.5927734375, 11053.6142578125, 11246.3486328125, 11205.892578125, 11747.0224609375, 11779.7734375, 11601.47265625, 11754.0458984375, 11675.7392578125, 11878.111328125, 11410.525390625, 11584.9345703125, 11784.1376953125, 11768.87109375, 11865.6982421875, 11892.8037109375, 12254.40234375, 11991.2333984375, 11758.283203125, 11878.3720703125, 11592.4892578125, 11681.8251953125, 11664.84765625, 11774.595703125, 11366.134765625, 11488.36328125, 11323.3974609375, 11542.5, 11506.865234375, 11711.505859375, 11680.8203125, 11970.478515625, 11414.0341796875, 10245.296875, 10511.8134765625, 10169.5673828125, 10280.3515625, 10369.5634765625, 10131.5166015625, 10242.34765625, 10363.138671875, 10400.9150390625, 10442.1708984375, 10323.755859375, 10680.837890625, 10796.951171875, 10974.9052734375, 10948.990234375, 10944.5859375, 11094.3466796875, 10938.271484375, 10462.259765625, 10538.4599609375, 10246.1865234375, 10760.06640625, 10692.716796875, 10750.7236328125, 10775.26953125, 10709.65234375, 10844.640625, 10784.4912109375, 10619.4521484375, 10575.974609375, 10549.3291015625, 10669.5830078125, 10793.33984375, 10604.40625, 10668.96875, 10915.685546875, 11064.4580078125, 11296.361328125, 11384.181640625, 11555.36328125, 11425.8994140625, 11429.5068359375, 11495.349609375, 11322.123046875, 11358.1015625, 11483.359375, 11742.037109375, 11916.3349609375, 12823.689453125, 12965.8916015625, 12931.5390625, 13108.0625, 13031.173828125, 13075.248046875, 13654.21875, 13271.28515625, 13437.8828125, 13546.5224609375, 13780.9951171875, 13737.109375, 13550.4892578125, 13950.30078125, 14133.70703125, 15579.8486328125, 15565.880859375, 14833.75390625, 15479.5673828125, 15332.3154296875, 15290.90234375, 15701.33984375, 16276.34375, 16317.80859375, 16068.138671875, 15955.587890625, 16716.111328125, 17645.40625, 17804.005859375, 17817.08984375, 18621.314453125, 18642.232421875, 18370.001953125, 18364.12109375, 19107.46484375, 18732.12109375, 17150.623046875, 17108.40234375, 17717.4140625, 18177.484375, 19625.8359375, 18802.998046875, 19201.091796875, 19445.3984375, 18699.765625, 19154.23046875, 19345.12109375, 19191.630859375, 18321.14453125, 18553.916015625, 18264.9921875, 18058.904296875, 18803.65625, 19142.3828125, 19246.64453125, 19417.076171875, 21310.59765625, 22805.162109375, 23137.9609375, 23869.83203125, 23477.294921875, 22803.08203125, 23783.029296875, 23241.345703125, 23735.94921875, 24664.791015625, 26437.037109375, 26272.294921875, 27084.80859375, 27362.4375, 28840.953125, 29001.720703125, 29374.15234375, 32127.267578125, 32782.0234375, 31971.9140625, 33992.4296875, 36824.36328125, 39371.04296875, 40797.609375, 40254.546875, 38356.44140625, 35566.65625, 33922.9609375, 37316.359375, 39187.328125, 36825.3671875, 36178.140625, 35791.27734375, 36630.07421875, 36069.8046875, 35547.75, 30825.69921875, 33005.76171875, 32067.642578125, 32289.37890625, 32366.392578125, 32569.849609375, 30432.546875, 33466.09765625, 34316.38671875, 34269.5234375, 33114.359375, 33537.17578125, 35510.2890625, 37472.08984375, 36926.06640625, 38144.30859375, 39266.01171875, 38903.44140625, 46196.46484375, 46481.10546875, 44918.18359375, 47909.33203125, 47504.8515625, 47105.515625, 48717.2890625, 47945.05859375, 49199.87109375, 52149.0078125, 51679.796875, 55888.1328125, 56099.51953125, 57539.9453125, 54207.3203125, 48824.42578125, 49705.33203125, 47093.8515625, 46339.76171875, 46188.453125]\n",
            "[45137.76953125, 49631.2421875, 48378.98828125, 50538.2421875, 48561.16796875, 48927.3046875, 48912.3828125, 51206.69140625, 52246.5234375, 54824.1171875, 56008.55078125, 57805.12109375, 57332.08984375, 61243.0859375, 59302.31640625, 55907.19921875, 56804.90234375, 58870.89453125, 57858.921875, 58346.65234375, 58313.64453125, 57523.421875, 54529.14453125, 54738.9453125, 52774.265625, 51704.16015625, 55137.3125, 55973.51171875, 55950.74609375, 57750.19921875, 58917.69140625, 58918.83203125, 59095.80859375, 59384.3125, 57603.890625, 58758.5546875, 59057.87890625, 58192.359375, 56048.9375, 58323.953125, 58245.00390625, 59793.234375, 60204.96484375, 59893.453125, 63503.45703125, 63109.6953125, 63314.01171875, 61572.7890625, 60683.8203125, 56216.18359375, 55724.265625, 56473.03125, 53906.08984375, 51762.2734375, 51093.65234375, 50050.8671875, 49004.25390625, 54021.75390625, 55033.1171875, 54824.703125, 53555.109375, 57750.17578125, 57828.05078125, 56631.078125, 57200.29296875, 53333.5390625, 57424.0078125, 56396.515625, 57356.40234375, 58803.77734375, 58232.31640625, 55859.796875, 56704.57421875, 49150.53515625, 49716.19140625, 49880.53515625, 46760.1875, 46456.05859375, 43537.51171875, 42909.40234375, 37002.44140625, 40782.73828125, 37304.69140625, 37536.6328125, 34770.58203125, 38705.98046875, 38402.22265625, 39294.19921875, 38436.96875, 35697.60546875, 34616.06640625, 35678.12890625, 37332.85546875, 36684.92578125, 37575.1796875, 39208.765625, 36894.40625, 35551.95703125, 35862.37890625, 33560.70703125, 33472.6328125, 37345.12109375, 36702.59765625, 37334.3984375, 35552.515625, 39097.859375, 40218.4765625, 40406.26953125, 38347.0625, 38053.50390625, 35787.24609375, 35615.87109375, 35698.296875, 31676.693359375, 32505.66015625, 33723.02734375, 34662.4375, 31637.779296875, 32186.27734375, 34649.64453125, 34434.3359375, 35867.77734375, 35040.8359375, 33572.1171875, 33897.046875, 34668.546875, 35287.78125, 33746.00390625, 34235.1953125, 33855.328125, 32877.37109375, 33798.01171875, 33520.51953125, 34240.1875, 33155.84765625, 32702.025390625, 32822.34765625, 31780.73046875, 31421.5390625, 31533.068359375, 31796.810546875, 30817.83203125, 29807.34765625, 32110.693359375, 32313.10546875, 33581.55078125, 34292.4453125, 35350.1875, 37337.53515625, 39406.94140625, 39995.90625, 40008.421875, 42235.546875, 41626.1953125, 39974.89453125, 39201.9453125, 38152.98046875, 39747.50390625, 40869.5546875, 42816.5, 44555.80078125, 43798.1171875, 46365.40234375, 45585.03125, 45593.63671875, 44428.2890625, 47793.3203125, 47096.9453125, 47047.00390625, 46004.484375, 44695.359375, 44801.1875, 46717.578125, 49339.17578125, 48905.4921875, 49321.65234375, 49546.1484375, 47706.1171875, 48960.7890625, 46942.21875, 49058.66796875, 48902.40234375, 48829.83203125, 47054.984375, 47166.6875, 48847.02734375, 49327.72265625, 50025.375, 49944.625, 51753.41015625, 52633.53515625, 46811.12890625, 46091.390625, 46391.421875, 44883.91015625, 45201.45703125, 46063.26953125, 44963.07421875, 47092.4921875, 48176.34765625, 47783.359375, 47267.51953125, 48278.36328125, 47260.21875, 42843.80078125, 40693.67578125, 43574.5078125, 44895.09765625, 42839.75, 42716.59375, 43208.5390625, 42235.73046875, 41034.54296875, 41564.36328125, 43790.89453125, 48116.94140625, 47711.48828125, 48199.953125, 49112.90234375, 51514.8125, 55361.44921875, 53805.984375, 53967.84765625, 54968.22265625, 54771.578125, 57484.7890625, 56041.05859375, 57401.09765625, 57321.5234375, 61593.94921875, 60892.1796875, 61553.6171875, 62026.078125, 64261.9921875, 65992.8359375, 62210.171875, 60692.265625, 61393.6171875, 60930.8359375, 63039.82421875, 60363.79296875, 58482.38671875, 60622.13671875, 62227.96484375, 61888.83203125, 61318.95703125, 61004.40625, 63226.40234375, 62970.046875, 61452.23046875, 61125.67578125, 61527.48046875, 63326.98828125, 67566.828125, 66971.828125, 64995.23046875, 64949.9609375, 64155.94140625, 64469.52734375, 65466.83984375, 63557.87109375, 60161.24609375, 60368.01171875, 56942.13671875, 58119.578125, 59697.1953125, 58730.4765625, 56289.2890625, 57569.07421875, 56280.42578125, 57274.6796875, 53569.765625, 54815.078125, 57248.45703125, 57806.56640625, 57005.42578125, 57229.828125, 56477.81640625, 53598.24609375, 49200.703125, 49368.84765625, 50582.625, 50700.0859375, 50504.796875, 47672.12109375, 47243.3046875, 49362.5078125, 50098.3359375, 46737.48046875, 46612.6328125, 48896.72265625, 47665.42578125, 46202.14453125, 46848.77734375, 46707.015625, 46880.27734375, 48936.61328125, 48628.51171875, 50784.5390625, 50822.1953125, 50429.859375, 50809.515625, 50640.41796875, 47588.85546875, 46444.7109375, 47178.125, 46306.4453125, 47686.8125, 47345.21875, 46458.1171875, 45897.57421875, 43569.00390625, 43160.9296875, 41557.90234375, 41733.94140625, 41911.6015625, 41821.26171875, 42735.85546875, 43949.1015625, 42591.5703125, 43099.69921875, 43177.3984375, 43113.87890625, 42250.55078125, 42375.6328125, 41744.328125, 40680.41796875, 36457.31640625, 35030.25, 36276.8046875, 36654.328125, 36954.00390625, 36852.12109375, 37138.234375, 37784.33203125, 38138.1796875, 37917.6015625, 38483.125, 38743.2734375, 36952.984375, 37154.6015625, 41500.875, 41441.1640625, 42412.43359375, 43840.28515625, 44118.4453125, 44338.796875, 43565.11328125, 42407.9375, 42244.46875, 42197.515625, 42586.91796875, 44575.203125, 43961.859375, 40538.01171875, 40030.9765625, 40122.15625, 38431.37890625, 37075.28125, 38286.02734375, 37296.5703125, 38332.609375, 39214.21875, 39105.1484375, 37709.78515625, 43193.234375, 44354.63671875, 43924.1171875, 42451.7890625, 39137.60546875, 39400.5859375, 38419.984375, 38062.0390625, 38737.26953125, 41982.92578125, 39437.4609375, 38794.97265625, 38904.01171875, 37849.6640625, 39666.75390625, 39338.78515625, 41143.9296875, 40951.37890625, 41801.15625, 42190.65234375, 41247.82421875, 41077.99609375, 42358.80859375, 42892.95703125, 43960.93359375, 44348.73046875, 44500.828125, 46820.4921875, 47128.00390625, 47465.73046875, 47062.6640625, 45538.67578125, 46281.64453125]\n"
          ]
        }
      ]
    },
    {
      "cell_type": "markdown",
      "source": [
        "Plotting the Splitted Dataset"
      ],
      "metadata": {
        "id": "0cNegc6DYinm"
      }
    },
    {
      "cell_type": "code",
      "source": [
        "plt.figure(figsize = (10, 6))\n",
        "plt.grid(True)\n",
        "plt.xlabel('Dates')\n",
        "plt.ylabel('Closing Prices')\n",
        "plt.plot(data[0:to_row]['Adj Close'], 'Blue', label = 'Training Data')\n",
        "plt.plot(data[to_row:]['Adj Close'], 'Red', label = 'Testing Data')\n",
        "plt.legend()\n",
        "plt.show()"
      ],
      "metadata": {
        "colab": {
          "base_uri": "https://localhost:8080/",
          "height": 388
        },
        "id": "tX8qhSa6DiZP",
        "outputId": "885cf06d-05c8-4688-dc80-ec43180ae187"
      },
      "execution_count": null,
      "outputs": [
        {
          "output_type": "display_data",
          "data": {
            "text/plain": [
              "<Figure size 720x432 with 1 Axes>"
            ],
            "image/png": "[encoded data removed]"
          },
          "metadata": {
            "needs_background": "light"
          }
        }
      ]
    },
    {
      "cell_type": "code",
      "source": [
        "model_predictions = []\n",
        "n_test_obser = len(testing_data)"
      ],
      "metadata": {
        "id": "9Jo_lusPJhnU"
      },
      "execution_count": null,
      "outputs": []
    },
    {
      "cell_type": "markdown",
      "source": [
        "Model Fitting"
      ],
      "metadata": {
        "id": "qfv1ckxBYp0N"
      }
    },
    {
      "cell_type": "code",
      "source": [
        "for i in range(n_test_obser):\n",
        "    model = ARIMA(training_data, order = (4, 1, 0))\n",
        "    model_fit = model.fit()\n",
        "    output = model_fit.forecast()\n",
        "    yhat = list(output[0])[0]\n",
        "    model_predictions.append(yhat)\n",
        "    actual_test_value = testing_data[i]\n",
        "    training_data.append(actual_test_value)"
      ],
      "metadata": {
        "id": "CdpevWpVJ6F6"
      },
      "execution_count": null,
      "outputs": []
    },
    {
      "cell_type": "markdown",
      "source": [
        "Model Summary"
      ],
      "metadata": {
        "id": "getNEIDpYr9S"
      }
    },
    {
      "cell_type": "code",
      "source": [
        "print(model_fit.summary())"
      ],
      "metadata": {
        "colab": {
          "base_uri": "https://localhost:8080/"
        },
        "id": "P5L8Jx-CMvC-",
        "outputId": "c731791f-9dbf-4060-ffca-1b6e054b7875"
      },
      "execution_count": null,
      "outputs": [
        {
          "output_type": "stream",
          "name": "stdout",
          "text": [
            "                             ARIMA Model Results                              \n",
            "==============================================================================\n",
            "Dep. Variable:                    D.y   No. Observations:                 2646\n",
            "Model:                 ARIMA(4, 1, 0)   Log Likelihood              -21457.965\n",
            "Method:                       css-mle   S.D. of innovations            804.842\n",
            "Date:                Fri, 22 Apr 2022   AIC                          42927.930\n",
            "Time:                        18:06:02   BIC                          42963.215\n",
            "Sample:                             1   HQIC                         42940.703\n",
            "                                                                              \n",
            "==============================================================================\n",
            "                 coef    std err          z      P>|z|      [0.025      0.975]\n",
            "------------------------------------------------------------------------------\n",
            "const         17.0916     15.942      1.072      0.284     -14.154      48.337\n",
            "ar.L1.D.y     -0.0230      0.019     -1.182      0.237      -0.061       0.015\n",
            "ar.L2.D.y     -0.0040      0.019     -0.204      0.839      -0.042       0.034\n",
            "ar.L3.D.y      0.0099      0.019      0.512      0.609      -0.028       0.048\n",
            "ar.L4.D.y      0.0356      0.019      1.831      0.067      -0.002       0.074\n",
            "                                    Roots                                    \n",
            "=============================================================================\n",
            "                  Real          Imaginary           Modulus         Frequency\n",
            "-----------------------------------------------------------------------------\n",
            "AR.1            2.2764           -0.0000j            2.2764           -0.0000\n",
            "AR.2           -0.0995           -2.2865j            2.2887           -0.2569\n",
            "AR.3           -0.0995           +2.2865j            2.2887            0.2569\n",
            "AR.4           -2.3569           -0.0000j            2.3569           -0.5000\n",
            "-----------------------------------------------------------------------------\n"
          ]
        }
      ]
    },
    {
      "cell_type": "markdown",
      "source": [
        "Plotting the Predicted and Actual BTC Price"
      ],
      "metadata": {
        "id": "GlZII5baYunX"
      }
    },
    {
      "cell_type": "code",
      "source": [
        "plt.figure(figsize = (15, 9))\n",
        "plt.grid()\n",
        "date_range = data[to_row:].index\n",
        "plt.plot(date_range, model_predictions, color = 'Blue', marker = 'o', linestyle = 'dashed', label = 'Bitcoin Predicted Price')\n",
        "plt.plot(date_range, testing_data, color = 'Red', label = 'Bitcoin Actual Price')\n",
        "plt.title('Bitcoin(BTC) Price Prediction')\n",
        "plt.xlabel('Date')\n",
        "plt.ylabel('Price')\n",
        "plt.legend()\n",
        "plt.show()"
      ],
      "metadata": {
        "colab": {
          "base_uri": "https://localhost:8080/",
          "height": 567
        },
        "id": "TfDbSBcsM5VY",
        "outputId": "ceb96bd3-295f-4c97-e06c-337a4f4955a8"
      },
      "execution_count": null,
      "outputs": [
        {
          "output_type": "display_data",
          "data": {
            "text/plain": [
              "<Figure size 1080x648 with 1 Axes>"
            ],
            "image/png": "[encoded data removed]"
          },
          "metadata": {
            "needs_background": "light"
          }
        }
      ]
    },
    {
      "cell_type": "markdown",
      "source": [
        "Model Accuracy using MAPE"
      ],
      "metadata": {
        "id": "zRM6zmSQY0n6"
      }
    },
    {
      "cell_type": "code",
      "source": [
        "mape = np.mean(np.abs(np.array(model_predictions) - np.array(testing_data)) / np.abs(testing_data))\n",
        "print(f\"Mean Absolute Percentage Error(MAPE): {mape}\")\n",
        "print(f\"MAPE(%): {mape*100}\",)"
      ],
      "metadata": {
        "colab": {
          "base_uri": "https://localhost:8080/"
        },
        "id": "bQ2VCoxuRCvB",
        "outputId": "ee9d075b-8135-49c6-f9b3-f29392b5f4da"
      },
      "execution_count": null,
      "outputs": [
        {
          "output_type": "stream",
          "name": "stdout",
          "text": [
            "Mean Absolute Percentage Error(MAPE): 0.028398286556481675\n",
            "MAPE(%): 2.8398286556481676\n"
          ]
        }
      ]
    },
    {
      "cell_type": "markdown",
      "source": [
        "***If the Model's MAPE Percentage is less than 10% the its a Highly Accurate or Excellent Model for Prediction. Its MAPE Value is 2.84%, so it is an Excellent Model for Prediction. Its Accuracy will be greater than or equal to 97.2%***"
      ],
      "metadata": {
        "id": "atG3ia2hTwwD"
      }
    },
    {
      "cell_type": "markdown",
      "source": [
        "Model Saving"
      ],
      "metadata": {
        "id": "CJTFjLVqY4lg"
      }
    },
    {
      "cell_type": "code",
      "source": [
        "jl.dump(model_fit,'Bitcoin_Price_Predictor.pkl')"
      ],
      "metadata": {
        "colab": {
          "base_uri": "https://localhost:8080/"
        },
        "id": "WUOdWmBCWO8r",
        "outputId": "22d2582e-6074-4148-c632-8905b5a2f965"
      },
      "execution_count": null,
      "outputs": [
        {
          "output_type": "execute_result",
          "data": {
            "text/plain": [
              "['Bitcoin_Price_Predictor.pkl']"
            ]
          },
          "metadata": {},
          "execution_count": 36
        }
      ]
    }
  ]
}